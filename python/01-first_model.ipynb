{
 "cells": [
  {
   "cell_type": "markdown",
   "metadata": {},
   "source": [
    "- model example\n",
    "    - determint overfitting?\n",
    "    - address overfitting\n",
    "- elastic-net\n",
    "    - regularization: lasso vs ridge\n",
    "- python workflow for supervised learning with linear models\n",
    "    - data frames\n",
    "    - data issues and outliers\n",
    "    - model specification and setup\n",
    "    - fitting with cross-validataion, CV parameters\n",
    "    - choice of loss function\n",
    "- evaluating the model\n",
    "    - model outputs and diagnosis: how are these used?\n",
    "    - which model is best\n",
    "- feature engineering\n"
   ]
  },
  {
   "cell_type": "markdown",
   "metadata": {},
   "source": [
    "# Load data"
   ]
  },
  {
   "cell_type": "code",
   "execution_count": 1,
   "metadata": {},
   "outputs": [],
   "source": [
    "import pandas as pd\n",
    "from pathlib import Path\n",
    "from glob import glob\n",
    "from pyprojroot import here"
   ]
  },
  {
   "cell_type": "code",
   "execution_count": 2,
   "metadata": {},
   "outputs": [],
   "source": [
    "p = Path('.')"
   ]
  },
  {
   "cell_type": "code",
   "execution_count": 3,
   "metadata": {},
   "outputs": [
    {
     "data": {
      "text/plain": [
       "PosixPath('.')"
      ]
     },
     "execution_count": 3,
     "metadata": {},
     "output_type": "execute_result"
    }
   ],
   "source": [
    "p"
   ]
  },
  {
   "cell_type": "code",
   "execution_count": 4,
   "metadata": {},
   "outputs": [
    {
     "data": {
      "text/plain": [
       "PosixPath('/home/dchen/git/hub/sklearn-crash_course')"
      ]
     },
     "execution_count": 4,
     "metadata": {},
     "output_type": "execute_result"
    }
   ],
   "source": [
    "here()"
   ]
  },
  {
   "cell_type": "code",
   "execution_count": 5,
   "metadata": {},
   "outputs": [
    {
     "data": {
      "text/plain": [
       "PosixPath('/home/dchen/git/hub/sklearn-crash_course/data/Comp_*.csv')"
      ]
     },
     "execution_count": 5,
     "metadata": {},
     "output_type": "execute_result"
    }
   ],
   "source": [
    "here() / \"data/Comp_*.csv\""
   ]
  },
  {
   "cell_type": "code",
   "execution_count": 6,
   "metadata": {},
   "outputs": [
    {
     "data": {
      "text/plain": [
       "[PosixPath('../data/Comp_North America.csv'),\n",
       " PosixPath('../data/Comp_UK.csv'),\n",
       " PosixPath('../data/Comp_AIPAC.csv'),\n",
       " PosixPath('../data/Comp_Europe.csv'),\n",
       " PosixPath('../data/Comp_Switzerland.csv')]"
      ]
     },
     "execution_count": 6,
     "metadata": {},
     "output_type": "execute_result"
    }
   ],
   "source": [
    "list(p.glob(\"../data/Comp_*.csv\"))"
   ]
  },
  {
   "cell_type": "code",
   "execution_count": 7,
   "metadata": {},
   "outputs": [
    {
     "data": {
      "text/plain": [
       "['/home/dchen/git/hub/sklearn-crash_course/data/Comp_North America.csv',\n",
       " '/home/dchen/git/hub/sklearn-crash_course/data/Comp_UK.csv',\n",
       " '/home/dchen/git/hub/sklearn-crash_course/data/Comp_AIPAC.csv',\n",
       " '/home/dchen/git/hub/sklearn-crash_course/data/Comp_Europe.csv',\n",
       " '/home/dchen/git/hub/sklearn-crash_course/data/Comp_Switzerland.csv']"
      ]
     },
     "execution_count": 7,
     "metadata": {},
     "output_type": "execute_result"
    }
   ],
   "source": [
    "glob(str(here() / \"data/Comp_*.csv\"))"
   ]
  },
  {
   "cell_type": "code",
   "execution_count": 8,
   "metadata": {},
   "outputs": [],
   "source": [
    "dfs = [pd.read_csv(x) for x in p.glob(\"../data/Comp_*.csv\")]"
   ]
  },
  {
   "cell_type": "code",
   "execution_count": 9,
   "metadata": {},
   "outputs": [],
   "source": [
    "df = pd.concat(dfs)"
   ]
  },
  {
   "cell_type": "code",
   "execution_count": 10,
   "metadata": {},
   "outputs": [
    {
     "data": {
      "text/plain": [
       "Index(['ID', 'SalaryPY', 'SalaryCY', 'BonusPY', 'BonusCY', 'Region', 'Title',\n",
       "       'Years', 'Reports', 'Review', 'Sector', 'Level', 'Career', 'Office',\n",
       "       'Floor', 'Retirement'],\n",
       "      dtype='object')"
      ]
     },
     "execution_count": 10,
     "metadata": {},
     "output_type": "execute_result"
    }
   ],
   "source": [
    "df.columns"
   ]
  },
  {
   "cell_type": "code",
   "execution_count": 11,
   "metadata": {},
   "outputs": [
    {
     "data": {
      "text/html": [
       "<div>\n",
       "<style scoped>\n",
       "    .dataframe tbody tr th:only-of-type {\n",
       "        vertical-align: middle;\n",
       "    }\n",
       "\n",
       "    .dataframe tbody tr th {\n",
       "        vertical-align: top;\n",
       "    }\n",
       "\n",
       "    .dataframe thead th {\n",
       "        text-align: right;\n",
       "    }\n",
       "</style>\n",
       "<table border=\"1\" class=\"dataframe\">\n",
       "  <thead>\n",
       "    <tr style=\"text-align: right;\">\n",
       "      <th></th>\n",
       "      <th>ID</th>\n",
       "      <th>SalaryPY</th>\n",
       "      <th>SalaryCY</th>\n",
       "      <th>BonusPY</th>\n",
       "      <th>BonusCY</th>\n",
       "      <th>Region</th>\n",
       "      <th>Title</th>\n",
       "      <th>Years</th>\n",
       "      <th>Reports</th>\n",
       "      <th>Review</th>\n",
       "      <th>Sector</th>\n",
       "      <th>Level</th>\n",
       "      <th>Career</th>\n",
       "      <th>Office</th>\n",
       "      <th>Floor</th>\n",
       "      <th>Retirement</th>\n",
       "    </tr>\n",
       "  </thead>\n",
       "  <tbody>\n",
       "    <tr>\n",
       "      <th>21431</th>\n",
       "      <td>86378</td>\n",
       "      <td>388046</td>\n",
       "      <td>430757</td>\n",
       "      <td>320027</td>\n",
       "      <td>342820</td>\n",
       "      <td>UK</td>\n",
       "      <td>VP</td>\n",
       "      <td>13</td>\n",
       "      <td>25</td>\n",
       "      <td>Neutral</td>\n",
       "      <td>Industrials</td>\n",
       "      <td>VP</td>\n",
       "      <td>Senior</td>\n",
       "      <td>Shared</td>\n",
       "      <td>40</td>\n",
       "      <td>Ineligible</td>\n",
       "    </tr>\n",
       "    <tr>\n",
       "      <th>22894</th>\n",
       "      <td>92256</td>\n",
       "      <td>88429</td>\n",
       "      <td>91784</td>\n",
       "      <td>26738</td>\n",
       "      <td>25414</td>\n",
       "      <td>UK</td>\n",
       "      <td>Analyst</td>\n",
       "      <td>2</td>\n",
       "      <td>0</td>\n",
       "      <td>Positive</td>\n",
       "      <td>Industrials</td>\n",
       "      <td>Junior</td>\n",
       "      <td>Junior</td>\n",
       "      <td>Cubicle</td>\n",
       "      <td>34</td>\n",
       "      <td>Ineligible</td>\n",
       "    </tr>\n",
       "    <tr>\n",
       "      <th>8653</th>\n",
       "      <td>35039</td>\n",
       "      <td>403814</td>\n",
       "      <td>447408</td>\n",
       "      <td>314535</td>\n",
       "      <td>357183</td>\n",
       "      <td>UK</td>\n",
       "      <td>VP</td>\n",
       "      <td>12</td>\n",
       "      <td>28</td>\n",
       "      <td>Neutral</td>\n",
       "      <td>Media</td>\n",
       "      <td>VP</td>\n",
       "      <td>Senior</td>\n",
       "      <td>Shared</td>\n",
       "      <td>32</td>\n",
       "      <td>Ineligible</td>\n",
       "    </tr>\n",
       "    <tr>\n",
       "      <th>7806</th>\n",
       "      <td>38256</td>\n",
       "      <td>422438</td>\n",
       "      <td>490061</td>\n",
       "      <td>330129</td>\n",
       "      <td>360899</td>\n",
       "      <td>AIPAC</td>\n",
       "      <td>VP</td>\n",
       "      <td>10</td>\n",
       "      <td>32</td>\n",
       "      <td>Neutral</td>\n",
       "      <td>Media</td>\n",
       "      <td>VP</td>\n",
       "      <td>Senior</td>\n",
       "      <td>Shared</td>\n",
       "      <td>26</td>\n",
       "      <td>Ineligible</td>\n",
       "    </tr>\n",
       "    <tr>\n",
       "      <th>1141</th>\n",
       "      <td>4630</td>\n",
       "      <td>66266</td>\n",
       "      <td>66818</td>\n",
       "      <td>21133</td>\n",
       "      <td>14913</td>\n",
       "      <td>UK</td>\n",
       "      <td>Analyst</td>\n",
       "      <td>2</td>\n",
       "      <td>0</td>\n",
       "      <td>Neutral</td>\n",
       "      <td>Tech</td>\n",
       "      <td>Junior</td>\n",
       "      <td>Junior</td>\n",
       "      <td>Cubicle</td>\n",
       "      <td>9</td>\n",
       "      <td>Ineligible</td>\n",
       "    </tr>\n",
       "    <tr>\n",
       "      <th>9760</th>\n",
       "      <td>48477</td>\n",
       "      <td>131141</td>\n",
       "      <td>131723</td>\n",
       "      <td>63541</td>\n",
       "      <td>71347</td>\n",
       "      <td>Switzerland</td>\n",
       "      <td>Associate</td>\n",
       "      <td>4</td>\n",
       "      <td>2</td>\n",
       "      <td>Positive</td>\n",
       "      <td>Automotive</td>\n",
       "      <td>Junior</td>\n",
       "      <td>Junior</td>\n",
       "      <td>Cubicle</td>\n",
       "      <td>32</td>\n",
       "      <td>Ineligible</td>\n",
       "    </tr>\n",
       "    <tr>\n",
       "      <th>20717</th>\n",
       "      <td>103019</td>\n",
       "      <td>87214</td>\n",
       "      <td>88588</td>\n",
       "      <td>26309</td>\n",
       "      <td>28282</td>\n",
       "      <td>Switzerland</td>\n",
       "      <td>Analyst</td>\n",
       "      <td>2</td>\n",
       "      <td>0</td>\n",
       "      <td>Neutral</td>\n",
       "      <td>Media</td>\n",
       "      <td>Junior</td>\n",
       "      <td>Junior</td>\n",
       "      <td>Cubicle</td>\n",
       "      <td>43</td>\n",
       "      <td>Ineligible</td>\n",
       "    </tr>\n",
       "    <tr>\n",
       "      <th>9022</th>\n",
       "      <td>44093</td>\n",
       "      <td>142810</td>\n",
       "      <td>157725</td>\n",
       "      <td>75948</td>\n",
       "      <td>82487</td>\n",
       "      <td>AIPAC</td>\n",
       "      <td>Associate</td>\n",
       "      <td>7</td>\n",
       "      <td>3</td>\n",
       "      <td>Neutral</td>\n",
       "      <td>Industrials</td>\n",
       "      <td>Junior</td>\n",
       "      <td>Junior</td>\n",
       "      <td>Cubicle</td>\n",
       "      <td>36</td>\n",
       "      <td>Ineligible</td>\n",
       "    </tr>\n",
       "    <tr>\n",
       "      <th>7782</th>\n",
       "      <td>31578</td>\n",
       "      <td>77881</td>\n",
       "      <td>80250</td>\n",
       "      <td>24184</td>\n",
       "      <td>24748</td>\n",
       "      <td>UK</td>\n",
       "      <td>Analyst</td>\n",
       "      <td>3</td>\n",
       "      <td>0</td>\n",
       "      <td>Neutral</td>\n",
       "      <td>Pharma</td>\n",
       "      <td>Junior</td>\n",
       "      <td>Junior</td>\n",
       "      <td>Cubicle</td>\n",
       "      <td>26</td>\n",
       "      <td>Ineligible</td>\n",
       "    </tr>\n",
       "    <tr>\n",
       "      <th>17911</th>\n",
       "      <td>72137</td>\n",
       "      <td>61158</td>\n",
       "      <td>63986</td>\n",
       "      <td>20734</td>\n",
       "      <td>18160</td>\n",
       "      <td>UK</td>\n",
       "      <td>Analyst</td>\n",
       "      <td>2</td>\n",
       "      <td>0</td>\n",
       "      <td>Neutral</td>\n",
       "      <td>Law</td>\n",
       "      <td>Junior</td>\n",
       "      <td>Junior</td>\n",
       "      <td>Cubicle</td>\n",
       "      <td>36</td>\n",
       "      <td>Ineligible</td>\n",
       "    </tr>\n",
       "  </tbody>\n",
       "</table>\n",
       "</div>"
      ],
      "text/plain": [
       "           ID  SalaryPY  SalaryCY  BonusPY  BonusCY       Region      Title  \\\n",
       "21431   86378    388046    430757   320027   342820           UK         VP   \n",
       "22894   92256     88429     91784    26738    25414           UK    Analyst   \n",
       "8653    35039    403814    447408   314535   357183           UK         VP   \n",
       "7806    38256    422438    490061   330129   360899        AIPAC         VP   \n",
       "1141     4630     66266     66818    21133    14913           UK    Analyst   \n",
       "9760    48477    131141    131723    63541    71347  Switzerland  Associate   \n",
       "20717  103019     87214     88588    26309    28282  Switzerland    Analyst   \n",
       "9022    44093    142810    157725    75948    82487        AIPAC  Associate   \n",
       "7782    31578     77881     80250    24184    24748           UK    Analyst   \n",
       "17911   72137     61158     63986    20734    18160           UK    Analyst   \n",
       "\n",
       "       Years  Reports    Review       Sector   Level  Career   Office  Floor  \\\n",
       "21431     13       25   Neutral  Industrials      VP  Senior   Shared     40   \n",
       "22894      2        0  Positive  Industrials  Junior  Junior  Cubicle     34   \n",
       "8653      12       28   Neutral        Media      VP  Senior   Shared     32   \n",
       "7806      10       32   Neutral        Media      VP  Senior   Shared     26   \n",
       "1141       2        0   Neutral         Tech  Junior  Junior  Cubicle      9   \n",
       "9760       4        2  Positive   Automotive  Junior  Junior  Cubicle     32   \n",
       "20717      2        0   Neutral        Media  Junior  Junior  Cubicle     43   \n",
       "9022       7        3   Neutral  Industrials  Junior  Junior  Cubicle     36   \n",
       "7782       3        0   Neutral       Pharma  Junior  Junior  Cubicle     26   \n",
       "17911      2        0   Neutral          Law  Junior  Junior  Cubicle     36   \n",
       "\n",
       "       Retirement  \n",
       "21431  Ineligible  \n",
       "22894  Ineligible  \n",
       "8653   Ineligible  \n",
       "7806   Ineligible  \n",
       "1141   Ineligible  \n",
       "9760   Ineligible  \n",
       "20717  Ineligible  \n",
       "9022   Ineligible  \n",
       "7782   Ineligible  \n",
       "17911  Ineligible  "
      ]
     },
     "execution_count": 11,
     "metadata": {},
     "output_type": "execute_result"
    }
   ],
   "source": [
    "df.sample(10)"
   ]
  },
  {
   "cell_type": "markdown",
   "metadata": {},
   "source": [
    "# Visualize response variable"
   ]
  },
  {
   "cell_type": "code",
   "execution_count": 12,
   "metadata": {},
   "outputs": [],
   "source": [
    "import seaborn as sns"
   ]
  },
  {
   "cell_type": "code",
   "execution_count": 13,
   "metadata": {},
   "outputs": [
    {
     "data": {
      "text/plain": [
       "<matplotlib.axes._subplots.AxesSubplot at 0x7f591f493450>"
      ]
     },
     "execution_count": 13,
     "metadata": {},
     "output_type": "execute_result"
    },
    {
     "data": {
      "image/png": "[encoded data removed]",
      "text/plain": [
       "<Figure size 432x288 with 1 Axes>"
      ]
     },
     "metadata": {
      "needs_background": "light"
     },
     "output_type": "display_data"
    }
   ],
   "source": [
    "sns.distplot(df[\"SalaryCY\"])"
   ]
  },
  {
   "cell_type": "code",
   "execution_count": 14,
   "metadata": {},
   "outputs": [
    {
     "data": {
      "text/plain": [
       "<seaborn.axisgrid.FacetGrid at 0x7f591cce0e50>"
      ]
     },
     "execution_count": 14,
     "metadata": {},
     "output_type": "execute_result"
    },
    {
     "data": {
      "image/png": "[encoded data removed]",
      "text/plain": [
       "<Figure size 864x216 with 4 Axes>"
      ]
     },
     "metadata": {
      "needs_background": "light"
     },
     "output_type": "display_data"
    }
   ],
   "source": [
    "g = sns.FacetGrid(df, col=\"Title\", margin_titles=True)\n",
    "g.map(sns.distplot, \"SalaryCY\")\n",
    "g.set_xticklabels(rotation=45)"
   ]
  },
  {
   "cell_type": "code",
   "execution_count": 15,
   "metadata": {},
   "outputs": [
    {
     "data": {
      "text/plain": [
       "<seaborn.axisgrid.FacetGrid at 0x7f591c89b710>"
      ]
     },
     "execution_count": 15,
     "metadata": {},
     "output_type": "execute_result"
    },
    {
     "data": {
      "image/png": "[encoded data removed]",
      "text/plain": [
       "<Figure size 864x216 with 4 Axes>"
      ]
     },
     "metadata": {
      "needs_background": "light"
     },
     "output_type": "display_data"
    }
   ],
   "source": [
    "g = sns.FacetGrid(df, col=\"Title\", margin_titles=True, sharex=False)\n",
    "g.map(sns.distplot, \"SalaryCY\")\n",
    "g.set_xticklabels(rotation=45)"
   ]
  },
  {
   "cell_type": "markdown",
   "metadata": {},
   "source": [
    "# Linear regression with statsmodels"
   ]
  },
  {
   "cell_type": "code",
   "execution_count": 16,
   "metadata": {},
   "outputs": [],
   "source": [
    "import statsmodels.formula.api as smf"
   ]
  },
  {
   "cell_type": "code",
   "execution_count": 17,
   "metadata": {},
   "outputs": [],
   "source": [
    "model = smf.ols(formula='SalaryCY ~ Region + Title + Sector + Years + Reports + Level + Career + Floor', data=df)"
   ]
  },
  {
   "cell_type": "code",
   "execution_count": 18,
   "metadata": {},
   "outputs": [],
   "source": [
    "sm_results = model.fit()"
   ]
  },
  {
   "cell_type": "code",
   "execution_count": 19,
   "metadata": {},
   "outputs": [
    {
     "data": {
      "text/html": [
       "<table class=\"simpletable\">\n",
       "<caption>OLS Regression Results</caption>\n",
       "<tr>\n",
       "  <th>Dep. Variable:</th>        <td>SalaryCY</td>     <th>  R-squared:         </th>  <td>   0.998</td>  \n",
       "</tr>\n",
       "<tr>\n",
       "  <th>Model:</th>                   <td>OLS</td>       <th>  Adj. R-squared:    </th>  <td>   0.998</td>  \n",
       "</tr>\n",
       "<tr>\n",
       "  <th>Method:</th>             <td>Least Squares</td>  <th>  F-statistic:       </th>  <td>2.674e+06</td> \n",
       "</tr>\n",
       "<tr>\n",
       "  <th>Date:</th>             <td>Wed, 05 Feb 2020</td> <th>  Prob (F-statistic):</th>   <td>  0.00</td>   \n",
       "</tr>\n",
       "<tr>\n",
       "  <th>Time:</th>                 <td>10:11:33</td>     <th>  Log-Likelihood:    </th> <td>-1.2613e+06</td>\n",
       "</tr>\n",
       "<tr>\n",
       "  <th>No. Observations:</th>      <td>105030</td>      <th>  AIC:               </th>  <td>2.523e+06</td> \n",
       "</tr>\n",
       "<tr>\n",
       "  <th>Df Residuals:</th>          <td>105010</td>      <th>  BIC:               </th>  <td>2.523e+06</td> \n",
       "</tr>\n",
       "<tr>\n",
       "  <th>Df Model:</th>              <td>    19</td>      <th>                     </th>      <td> </td>     \n",
       "</tr>\n",
       "<tr>\n",
       "  <th>Covariance Type:</th>      <td>nonrobust</td>    <th>                     </th>      <td> </td>     \n",
       "</tr>\n",
       "</table>\n",
       "<table class=\"simpletable\">\n",
       "<tr>\n",
       "             <td></td>                <th>coef</th>     <th>std err</th>      <th>t</th>      <th>P>|t|</th>  <th>[0.025</th>    <th>0.975]</th>  \n",
       "</tr>\n",
       "<tr>\n",
       "  <th>Intercept</th>               <td> 6.881e+04</td> <td> 1635.072</td> <td>   42.086</td> <td> 0.000</td> <td> 6.56e+04</td> <td>  7.2e+04</td>\n",
       "</tr>\n",
       "<tr>\n",
       "  <th>Region[T.Europe]</th>        <td>-4727.9067</td> <td>  475.135</td> <td>   -9.951</td> <td> 0.000</td> <td>-5659.164</td> <td>-3796.649</td>\n",
       "</tr>\n",
       "<tr>\n",
       "  <th>Region[T.North America]</th> <td> 9307.1105</td> <td>  367.597</td> <td>   25.319</td> <td> 0.000</td> <td> 8586.625</td> <td>    1e+04</td>\n",
       "</tr>\n",
       "<tr>\n",
       "  <th>Region[T.Switzerland]</th>   <td> 1.617e+04</td> <td>  386.643</td> <td>   41.829</td> <td> 0.000</td> <td> 1.54e+04</td> <td> 1.69e+04</td>\n",
       "</tr>\n",
       "<tr>\n",
       "  <th>Region[T.UK]</th>            <td> 4706.2918</td> <td>  367.440</td> <td>   12.808</td> <td> 0.000</td> <td> 3986.114</td> <td> 5426.470</td>\n",
       "</tr>\n",
       "<tr>\n",
       "  <th>Title[T.Associate]</th>      <td> 4157.6149</td> <td>  464.958</td> <td>    8.942</td> <td> 0.000</td> <td> 3246.303</td> <td> 5068.927</td>\n",
       "</tr>\n",
       "<tr>\n",
       "  <th>Title[T.MD]</th>             <td> 1.102e+05</td> <td> 4982.000</td> <td>   22.117</td> <td> 0.000</td> <td>    1e+05</td> <td>  1.2e+05</td>\n",
       "</tr>\n",
       "<tr>\n",
       "  <th>Title[T.VP]</th>             <td>-3.744e+04</td> <td> 1878.279</td> <td>  -19.931</td> <td> 0.000</td> <td>-4.11e+04</td> <td>-3.38e+04</td>\n",
       "</tr>\n",
       "<tr>\n",
       "  <th>Sector[T.Automotive]</th>    <td>-1169.1743</td> <td>  549.648</td> <td>   -2.127</td> <td> 0.033</td> <td>-2246.476</td> <td>  -91.872</td>\n",
       "</tr>\n",
       "<tr>\n",
       "  <th>Sector[T.CPG]</th>           <td> -535.5261</td> <td>  547.098</td> <td>   -0.979</td> <td> 0.328</td> <td>-1607.832</td> <td>  536.780</td>\n",
       "</tr>\n",
       "<tr>\n",
       "  <th>Sector[T.Industrials]</th>   <td>-1114.1391</td> <td>  549.400</td> <td>   -2.028</td> <td> 0.043</td> <td>-2190.956</td> <td>  -37.322</td>\n",
       "</tr>\n",
       "<tr>\n",
       "  <th>Sector[T.Law]</th>           <td> -530.2205</td> <td>  551.050</td> <td>   -0.962</td> <td> 0.336</td> <td>-1610.271</td> <td>  549.830</td>\n",
       "</tr>\n",
       "<tr>\n",
       "  <th>Sector[T.Media]</th>         <td> -482.2298</td> <td>  550.315</td> <td>   -0.876</td> <td> 0.381</td> <td>-1560.840</td> <td>  596.380</td>\n",
       "</tr>\n",
       "<tr>\n",
       "  <th>Sector[T.Pharma]</th>        <td> -840.9552</td> <td>  549.641</td> <td>   -1.530</td> <td> 0.126</td> <td>-1918.245</td> <td>  236.334</td>\n",
       "</tr>\n",
       "<tr>\n",
       "  <th>Sector[T.Real Estate]</th>   <td> -936.1145</td> <td>  549.235</td> <td>   -1.704</td> <td> 0.088</td> <td>-2012.607</td> <td>  140.378</td>\n",
       "</tr>\n",
       "<tr>\n",
       "  <th>Sector[T.Retail]</th>        <td> -611.0887</td> <td>  549.904</td> <td>   -1.111</td> <td> 0.266</td> <td>-1688.893</td> <td>  466.716</td>\n",
       "</tr>\n",
       "<tr>\n",
       "  <th>Sector[T.Tech]</th>          <td> -836.7139</td> <td>  548.816</td> <td>   -1.525</td> <td> 0.127</td> <td>-1912.385</td> <td>  238.958</td>\n",
       "</tr>\n",
       "<tr>\n",
       "  <th>Level[T.Junior]</th>         <td>-3934.1411</td> <td> 1562.849</td> <td>   -2.517</td> <td> 0.012</td> <td>-6997.304</td> <td> -870.978</td>\n",
       "</tr>\n",
       "<tr>\n",
       "  <th>Level[T.VP]</th>             <td>-3.744e+04</td> <td> 1878.279</td> <td>  -19.931</td> <td> 0.000</td> <td>-4.11e+04</td> <td>-3.38e+04</td>\n",
       "</tr>\n",
       "<tr>\n",
       "  <th>Career[T.Senior]</th>        <td> 7.275e+04</td> <td> 3148.727</td> <td>   23.104</td> <td> 0.000</td> <td> 6.66e+04</td> <td> 7.89e+04</td>\n",
       "</tr>\n",
       "<tr>\n",
       "  <th>Years</th>                   <td> 7416.6279</td> <td>  110.402</td> <td>   67.178</td> <td> 0.000</td> <td> 7200.241</td> <td> 7633.015</td>\n",
       "</tr>\n",
       "<tr>\n",
       "  <th>Reports</th>                 <td> 1.061e+04</td> <td>   26.985</td> <td>  393.118</td> <td> 0.000</td> <td> 1.06e+04</td> <td> 1.07e+04</td>\n",
       "</tr>\n",
       "<tr>\n",
       "  <th>Floor</th>                   <td>   -3.8764</td> <td>    9.071</td> <td>   -0.427</td> <td> 0.669</td> <td>  -21.656</td> <td>   13.903</td>\n",
       "</tr>\n",
       "</table>\n",
       "<table class=\"simpletable\">\n",
       "<tr>\n",
       "  <th>Omnibus:</th>       <td>33930.361</td> <th>  Durbin-Watson:     </th>  <td>   2.002</td>  \n",
       "</tr>\n",
       "<tr>\n",
       "  <th>Prob(Omnibus):</th>  <td> 0.000</td>   <th>  Jarque-Bera (JB):  </th> <td>8766117.198</td>\n",
       "</tr>\n",
       "<tr>\n",
       "  <th>Skew:</th>           <td>-0.126</td>   <th>  Prob(JB):          </th>  <td>    0.00</td>  \n",
       "</tr>\n",
       "<tr>\n",
       "  <th>Kurtosis:</th>       <td>47.755</td>   <th>  Cond. No.          </th>  <td>2.71e+17</td>  \n",
       "</tr>\n",
       "</table><br/><br/>Warnings:<br/>[1] Standard Errors assume that the covariance matrix of the errors is correctly specified.<br/>[2] The smallest eigenvalue is 9.06e-27. This might indicate that there are<br/>strong multicollinearity problems or that the design matrix is singular."
      ],
      "text/plain": [
       "<class 'statsmodels.iolib.summary.Summary'>\n",
       "\"\"\"\n",
       "                            OLS Regression Results                            \n",
       "==============================================================================\n",
       "Dep. Variable:               SalaryCY   R-squared:                       0.998\n",
       "Model:                            OLS   Adj. R-squared:                  0.998\n",
       "Method:                 Least Squares   F-statistic:                 2.674e+06\n",
       "Date:                Wed, 05 Feb 2020   Prob (F-statistic):               0.00\n",
       "Time:                        10:11:33   Log-Likelihood:            -1.2613e+06\n",
       "No. Observations:              105030   AIC:                         2.523e+06\n",
       "Df Residuals:                  105010   BIC:                         2.523e+06\n",
       "Df Model:                          19                                         \n",
       "Covariance Type:            nonrobust                                         \n",
       "===========================================================================================\n",
       "                              coef    std err          t      P>|t|      [0.025      0.975]\n",
       "-------------------------------------------------------------------------------------------\n",
       "Intercept                6.881e+04   1635.072     42.086      0.000    6.56e+04     7.2e+04\n",
       "Region[T.Europe]        -4727.9067    475.135     -9.951      0.000   -5659.164   -3796.649\n",
       "Region[T.North America]  9307.1105    367.597     25.319      0.000    8586.625       1e+04\n",
       "Region[T.Switzerland]    1.617e+04    386.643     41.829      0.000    1.54e+04    1.69e+04\n",
       "Region[T.UK]             4706.2918    367.440     12.808      0.000    3986.114    5426.470\n",
       "Title[T.Associate]       4157.6149    464.958      8.942      0.000    3246.303    5068.927\n",
       "Title[T.MD]              1.102e+05   4982.000     22.117      0.000       1e+05     1.2e+05\n",
       "Title[T.VP]             -3.744e+04   1878.279    -19.931      0.000   -4.11e+04   -3.38e+04\n",
       "Sector[T.Automotive]    -1169.1743    549.648     -2.127      0.033   -2246.476     -91.872\n",
       "Sector[T.CPG]            -535.5261    547.098     -0.979      0.328   -1607.832     536.780\n",
       "Sector[T.Industrials]   -1114.1391    549.400     -2.028      0.043   -2190.956     -37.322\n",
       "Sector[T.Law]            -530.2205    551.050     -0.962      0.336   -1610.271     549.830\n",
       "Sector[T.Media]          -482.2298    550.315     -0.876      0.381   -1560.840     596.380\n",
       "Sector[T.Pharma]         -840.9552    549.641     -1.530      0.126   -1918.245     236.334\n",
       "Sector[T.Real Estate]    -936.1145    549.235     -1.704      0.088   -2012.607     140.378\n",
       "Sector[T.Retail]         -611.0887    549.904     -1.111      0.266   -1688.893     466.716\n",
       "Sector[T.Tech]           -836.7139    548.816     -1.525      0.127   -1912.385     238.958\n",
       "Level[T.Junior]         -3934.1411   1562.849     -2.517      0.012   -6997.304    -870.978\n",
       "Level[T.VP]             -3.744e+04   1878.279    -19.931      0.000   -4.11e+04   -3.38e+04\n",
       "Career[T.Senior]         7.275e+04   3148.727     23.104      0.000    6.66e+04    7.89e+04\n",
       "Years                    7416.6279    110.402     67.178      0.000    7200.241    7633.015\n",
       "Reports                  1.061e+04     26.985    393.118      0.000    1.06e+04    1.07e+04\n",
       "Floor                      -3.8764      9.071     -0.427      0.669     -21.656      13.903\n",
       "==============================================================================\n",
       "Omnibus:                    33930.361   Durbin-Watson:                   2.002\n",
       "Prob(Omnibus):                  0.000   Jarque-Bera (JB):          8766117.198\n",
       "Skew:                          -0.126   Prob(JB):                         0.00\n",
       "Kurtosis:                      47.755   Cond. No.                     2.71e+17\n",
       "==============================================================================\n",
       "\n",
       "Warnings:\n",
       "[1] Standard Errors assume that the covariance matrix of the errors is correctly specified.\n",
       "[2] The smallest eigenvalue is 9.06e-27. This might indicate that there are\n",
       "strong multicollinearity problems or that the design matrix is singular.\n",
       "\"\"\""
      ]
     },
     "execution_count": 19,
     "metadata": {},
     "output_type": "execute_result"
    }
   ],
   "source": [
    "sm_results.summary()"
   ]
  },
  {
   "cell_type": "code",
   "execution_count": 20,
   "metadata": {},
   "outputs": [
    {
     "data": {
      "text/plain": [
       "Intercept                   68813.715051\n",
       "Region[T.Europe]            -4727.906712\n",
       "Region[T.North America]      9307.110533\n",
       "Region[T.Switzerland]       16173.004268\n",
       "Region[T.UK]                 4706.291822\n",
       "Title[T.Associate]           4157.614902\n",
       "Title[T.MD]                110184.759326\n",
       "Title[T.VP]                -37436.903147\n",
       "Sector[T.Automotive]        -1169.174335\n",
       "Sector[T.CPG]                -535.526094\n",
       "Sector[T.Industrials]       -1114.139051\n",
       "Sector[T.Law]                -530.220485\n",
       "Sector[T.Media]              -482.229757\n",
       "Sector[T.Pharma]             -840.955243\n",
       "Sector[T.Real Estate]        -936.114514\n",
       "Sector[T.Retail]             -611.088702\n",
       "Sector[T.Tech]               -836.713901\n",
       "Level[T.Junior]             -3934.141127\n",
       "Level[T.VP]                -37436.903147\n",
       "Career[T.Senior]            72747.856179\n",
       "Years                        7416.627910\n",
       "Reports                     10608.422609\n",
       "Floor                          -3.876364\n",
       "dtype: float64"
      ]
     },
     "execution_count": 20,
     "metadata": {},
     "output_type": "execute_result"
    }
   ],
   "source": [
    "sm_results.params"
   ]
  },
  {
   "cell_type": "code",
   "execution_count": 21,
   "metadata": {},
   "outputs": [
    {
     "data": {
      "text/plain": [
       "<matplotlib.axes._subplots.AxesSubplot at 0x7f591af5ae50>"
      ]
     },
     "execution_count": 21,
     "metadata": {},
     "output_type": "execute_result"
    },
    {
     "data": {
      "image/png": "[encoded data removed]",
      "text/plain": [
       "<Figure size 432x288 with 1 Axes>"
      ]
     },
     "metadata": {
      "needs_background": "light"
     },
     "output_type": "display_data"
    }
   ],
   "source": [
    "sns.pointplot(x=sm_results.params, y=sm_results.params.index)"
   ]
  },
  {
   "cell_type": "code",
   "execution_count": 22,
   "metadata": {},
   "outputs": [
    {
     "data": {
      "text/plain": [
       "<matplotlib.axes._subplots.AxesSubplot at 0x7f591ae850d0>"
      ]
     },
     "execution_count": 22,
     "metadata": {},
     "output_type": "execute_result"
    },
    {
     "data": {
      "image/png": "[encoded data removed]",
      "text/plain": [
       "<Figure size 432x288 with 1 Axes>"
      ]
     },
     "metadata": {
      "needs_background": "light"
     },
     "output_type": "display_data"
    }
   ],
   "source": [
    "sns.stripplot(x=sm_results.params, y=sm_results.params.index)"
   ]
  },
  {
   "cell_type": "code",
   "execution_count": 23,
   "metadata": {},
   "outputs": [],
   "source": [
    "coefs = sm_results.params.sort_values(ascending=False)"
   ]
  },
  {
   "cell_type": "code",
   "execution_count": 24,
   "metadata": {},
   "outputs": [
    {
     "data": {
      "text/plain": [
       "<matplotlib.axes._subplots.AxesSubplot at 0x7f591af54710>"
      ]
     },
     "execution_count": 24,
     "metadata": {},
     "output_type": "execute_result"
    },
    {
     "data": {
      "image/png": "[encoded data removed]",
      "text/plain": [
       "<Figure size 432x288 with 1 Axes>"
      ]
     },
     "metadata": {
      "needs_background": "light"
     },
     "output_type": "display_data"
    }
   ],
   "source": [
    "sns.stripplot(x=coefs, y=coefs.index)"
   ]
  },
  {
   "cell_type": "markdown",
   "metadata": {},
   "source": [
    "# Data prepping"
   ]
  },
  {
   "cell_type": "markdown",
   "metadata": {},
   "source": [
    "## Drop columns"
   ]
  },
  {
   "cell_type": "code",
   "execution_count": 25,
   "metadata": {},
   "outputs": [],
   "source": [
    "comp_data = df.drop(columns=[\"SalaryPY\", \"BonusPY\", \"BonusCY\", \"ID\"])"
   ]
  },
  {
   "cell_type": "code",
   "execution_count": 26,
   "metadata": {},
   "outputs": [
    {
     "data": {
      "text/plain": [
       "Index(['SalaryCY', 'Region', 'Title', 'Years', 'Reports', 'Review', 'Sector',\n",
       "       'Level', 'Career', 'Office', 'Floor', 'Retirement'],\n",
       "      dtype='object')"
      ]
     },
     "execution_count": 26,
     "metadata": {},
     "output_type": "execute_result"
    }
   ],
   "source": [
    "comp_data.columns"
   ]
  },
  {
   "cell_type": "code",
   "execution_count": 27,
   "metadata": {},
   "outputs": [],
   "source": [
    "import numpy as np"
   ]
  },
  {
   "cell_type": "markdown",
   "metadata": {},
   "source": [
    "## Log transform response"
   ]
  },
  {
   "cell_type": "code",
   "execution_count": 28,
   "metadata": {},
   "outputs": [],
   "source": [
    "comp_data[\"SalaryCY\"] = np.log10(comp_data[\"SalaryCY\"])"
   ]
  },
  {
   "cell_type": "code",
   "execution_count": 29,
   "metadata": {},
   "outputs": [
    {
     "data": {
      "text/plain": [
       "<matplotlib.axes._subplots.AxesSubplot at 0x7f591ac83d90>"
      ]
     },
     "execution_count": 29,
     "metadata": {},
     "output_type": "execute_result"
    },
    {
     "data": {
      "image/png": "[encoded data removed]",
      "text/plain": [
       "<Figure size 432x288 with 1 Axes>"
      ]
     },
     "metadata": {
      "needs_background": "light"
     },
     "output_type": "display_data"
    }
   ],
   "source": [
    "sns.distplot(df[\"SalaryCY\"])"
   ]
  },
  {
   "cell_type": "code",
   "execution_count": 30,
   "metadata": {},
   "outputs": [
    {
     "data": {
      "text/plain": [
       "<matplotlib.axes._subplots.AxesSubplot at 0x7f591ab133d0>"
      ]
     },
     "execution_count": 30,
     "metadata": {},
     "output_type": "execute_result"
    },
    {
     "data": {
      "image/png": "[encoded data removed]",
      "text/plain": [
       "<Figure size 432x288 with 1 Axes>"
      ]
     },
     "metadata": {
      "needs_background": "light"
     },
     "output_type": "display_data"
    }
   ],
   "source": [
    "sns.distplot(comp_data[\"SalaryCY\"])"
   ]
  },
  {
   "cell_type": "code",
   "execution_count": 31,
   "metadata": {},
   "outputs": [
    {
     "data": {
      "text/html": [
       "<div>\n",
       "<style scoped>\n",
       "    .dataframe tbody tr th:only-of-type {\n",
       "        vertical-align: middle;\n",
       "    }\n",
       "\n",
       "    .dataframe tbody tr th {\n",
       "        vertical-align: top;\n",
       "    }\n",
       "\n",
       "    .dataframe thead th {\n",
       "        text-align: right;\n",
       "    }\n",
       "</style>\n",
       "<table border=\"1\" class=\"dataframe\">\n",
       "  <thead>\n",
       "    <tr style=\"text-align: right;\">\n",
       "      <th></th>\n",
       "      <th>SalaryCY</th>\n",
       "      <th>Region</th>\n",
       "      <th>Title</th>\n",
       "      <th>Years</th>\n",
       "      <th>Reports</th>\n",
       "      <th>Review</th>\n",
       "      <th>Sector</th>\n",
       "      <th>Level</th>\n",
       "      <th>Career</th>\n",
       "      <th>Office</th>\n",
       "      <th>Floor</th>\n",
       "      <th>Retirement</th>\n",
       "    </tr>\n",
       "  </thead>\n",
       "  <tbody>\n",
       "    <tr>\n",
       "      <th>19433</th>\n",
       "      <td>4.991629</td>\n",
       "      <td>Switzerland</td>\n",
       "      <td>Analyst</td>\n",
       "      <td>3</td>\n",
       "      <td>0</td>\n",
       "      <td>Neutral</td>\n",
       "      <td>Media</td>\n",
       "      <td>Junior</td>\n",
       "      <td>Junior</td>\n",
       "      <td>Cubicle</td>\n",
       "      <td>14</td>\n",
       "      <td>Ineligible</td>\n",
       "    </tr>\n",
       "    <tr>\n",
       "      <th>6688</th>\n",
       "      <td>4.991155</td>\n",
       "      <td>Switzerland</td>\n",
       "      <td>Analyst</td>\n",
       "      <td>2</td>\n",
       "      <td>0</td>\n",
       "      <td>Negative</td>\n",
       "      <td>Real Estate</td>\n",
       "      <td>Junior</td>\n",
       "      <td>Junior</td>\n",
       "      <td>Cubicle</td>\n",
       "      <td>26</td>\n",
       "      <td>Ineligible</td>\n",
       "    </tr>\n",
       "    <tr>\n",
       "      <th>4874</th>\n",
       "      <td>6.616592</td>\n",
       "      <td>Europe</td>\n",
       "      <td>MD</td>\n",
       "      <td>18</td>\n",
       "      <td>351</td>\n",
       "      <td>Negative</td>\n",
       "      <td>Automotive</td>\n",
       "      <td>Executive</td>\n",
       "      <td>Senior</td>\n",
       "      <td>Corner</td>\n",
       "      <td>44</td>\n",
       "      <td>Ineligible</td>\n",
       "    </tr>\n",
       "    <tr>\n",
       "      <th>19496</th>\n",
       "      <td>5.661920</td>\n",
       "      <td>Switzerland</td>\n",
       "      <td>VP</td>\n",
       "      <td>11</td>\n",
       "      <td>28</td>\n",
       "      <td>Neutral</td>\n",
       "      <td>Real Estate</td>\n",
       "      <td>VP</td>\n",
       "      <td>Senior</td>\n",
       "      <td>Shared</td>\n",
       "      <td>3</td>\n",
       "      <td>Ineligible</td>\n",
       "    </tr>\n",
       "    <tr>\n",
       "      <th>25057</th>\n",
       "      <td>4.826587</td>\n",
       "      <td>UK</td>\n",
       "      <td>Analyst</td>\n",
       "      <td>1</td>\n",
       "      <td>0</td>\n",
       "      <td>Neutral</td>\n",
       "      <td>Real Estate</td>\n",
       "      <td>Junior</td>\n",
       "      <td>Junior</td>\n",
       "      <td>Cubicle</td>\n",
       "      <td>17</td>\n",
       "      <td>Ineligible</td>\n",
       "    </tr>\n",
       "    <tr>\n",
       "      <th>2004</th>\n",
       "      <td>4.874418</td>\n",
       "      <td>AIPAC</td>\n",
       "      <td>Analyst</td>\n",
       "      <td>2</td>\n",
       "      <td>0</td>\n",
       "      <td>Neutral</td>\n",
       "      <td>Real Estate</td>\n",
       "      <td>Junior</td>\n",
       "      <td>Junior</td>\n",
       "      <td>Cubicle</td>\n",
       "      <td>46</td>\n",
       "      <td>Ineligible</td>\n",
       "    </tr>\n",
       "    <tr>\n",
       "      <th>23185</th>\n",
       "      <td>4.932469</td>\n",
       "      <td>UK</td>\n",
       "      <td>Analyst</td>\n",
       "      <td>2</td>\n",
       "      <td>0</td>\n",
       "      <td>Positive</td>\n",
       "      <td>Industrials</td>\n",
       "      <td>Junior</td>\n",
       "      <td>Junior</td>\n",
       "      <td>Cubicle</td>\n",
       "      <td>15</td>\n",
       "      <td>Ineligible</td>\n",
       "    </tr>\n",
       "    <tr>\n",
       "      <th>13814</th>\n",
       "      <td>4.901475</td>\n",
       "      <td>Switzerland</td>\n",
       "      <td>Analyst</td>\n",
       "      <td>2</td>\n",
       "      <td>0</td>\n",
       "      <td>Neutral</td>\n",
       "      <td>CPG</td>\n",
       "      <td>Junior</td>\n",
       "      <td>Junior</td>\n",
       "      <td>Cubicle</td>\n",
       "      <td>36</td>\n",
       "      <td>Ineligible</td>\n",
       "    </tr>\n",
       "    <tr>\n",
       "      <th>25676</th>\n",
       "      <td>5.191895</td>\n",
       "      <td>UK</td>\n",
       "      <td>Associate</td>\n",
       "      <td>6</td>\n",
       "      <td>3</td>\n",
       "      <td>Neutral</td>\n",
       "      <td>Retail</td>\n",
       "      <td>Junior</td>\n",
       "      <td>Junior</td>\n",
       "      <td>Cubicle</td>\n",
       "      <td>19</td>\n",
       "      <td>Ineligible</td>\n",
       "    </tr>\n",
       "    <tr>\n",
       "      <th>18777</th>\n",
       "      <td>4.980272</td>\n",
       "      <td>UK</td>\n",
       "      <td>Analyst</td>\n",
       "      <td>2</td>\n",
       "      <td>0</td>\n",
       "      <td>Positive</td>\n",
       "      <td>Retail</td>\n",
       "      <td>Junior</td>\n",
       "      <td>Junior</td>\n",
       "      <td>Cubicle</td>\n",
       "      <td>24</td>\n",
       "      <td>Ineligible</td>\n",
       "    </tr>\n",
       "  </tbody>\n",
       "</table>\n",
       "</div>"
      ],
      "text/plain": [
       "       SalaryCY       Region      Title  Years  Reports    Review  \\\n",
       "19433  4.991629  Switzerland    Analyst      3        0   Neutral   \n",
       "6688   4.991155  Switzerland    Analyst      2        0  Negative   \n",
       "4874   6.616592       Europe         MD     18      351  Negative   \n",
       "19496  5.661920  Switzerland         VP     11       28   Neutral   \n",
       "25057  4.826587           UK    Analyst      1        0   Neutral   \n",
       "2004   4.874418        AIPAC    Analyst      2        0   Neutral   \n",
       "23185  4.932469           UK    Analyst      2        0  Positive   \n",
       "13814  4.901475  Switzerland    Analyst      2        0   Neutral   \n",
       "25676  5.191895           UK  Associate      6        3   Neutral   \n",
       "18777  4.980272           UK    Analyst      2        0  Positive   \n",
       "\n",
       "            Sector      Level  Career   Office  Floor  Retirement  \n",
       "19433        Media     Junior  Junior  Cubicle     14  Ineligible  \n",
       "6688   Real Estate     Junior  Junior  Cubicle     26  Ineligible  \n",
       "4874    Automotive  Executive  Senior   Corner     44  Ineligible  \n",
       "19496  Real Estate         VP  Senior   Shared      3  Ineligible  \n",
       "25057  Real Estate     Junior  Junior  Cubicle     17  Ineligible  \n",
       "2004   Real Estate     Junior  Junior  Cubicle     46  Ineligible  \n",
       "23185  Industrials     Junior  Junior  Cubicle     15  Ineligible  \n",
       "13814          CPG     Junior  Junior  Cubicle     36  Ineligible  \n",
       "25676       Retail     Junior  Junior  Cubicle     19  Ineligible  \n",
       "18777       Retail     Junior  Junior  Cubicle     24  Ineligible  "
      ]
     },
     "execution_count": 31,
     "metadata": {},
     "output_type": "execute_result"
    }
   ],
   "source": [
    "comp_data.sample(10)"
   ]
  },
  {
   "cell_type": "markdown",
   "metadata": {},
   "source": [
    "## Dummy variable"
   ]
  },
  {
   "cell_type": "code",
   "execution_count": 32,
   "metadata": {},
   "outputs": [],
   "source": [
    "comp_data_dummy = pd.get_dummies(comp_data, drop_first=True)"
   ]
  },
  {
   "cell_type": "code",
   "execution_count": 33,
   "metadata": {},
   "outputs": [
    {
     "data": {
      "text/html": [
       "<div>\n",
       "<style scoped>\n",
       "    .dataframe tbody tr th:only-of-type {\n",
       "        vertical-align: middle;\n",
       "    }\n",
       "\n",
       "    .dataframe tbody tr th {\n",
       "        vertical-align: top;\n",
       "    }\n",
       "\n",
       "    .dataframe thead th {\n",
       "        text-align: right;\n",
       "    }\n",
       "</style>\n",
       "<table border=\"1\" class=\"dataframe\">\n",
       "  <thead>\n",
       "    <tr style=\"text-align: right;\">\n",
       "      <th></th>\n",
       "      <th>SalaryCY</th>\n",
       "      <th>Years</th>\n",
       "      <th>Reports</th>\n",
       "      <th>Floor</th>\n",
       "      <th>Region_Europe</th>\n",
       "      <th>Region_North America</th>\n",
       "      <th>Region_Switzerland</th>\n",
       "      <th>Region_UK</th>\n",
       "      <th>Title_Associate</th>\n",
       "      <th>Title_MD</th>\n",
       "      <th>...</th>\n",
       "      <th>Sector_Pharma</th>\n",
       "      <th>Sector_Real Estate</th>\n",
       "      <th>Sector_Retail</th>\n",
       "      <th>Sector_Tech</th>\n",
       "      <th>Level_Junior</th>\n",
       "      <th>Level_VP</th>\n",
       "      <th>Career_Senior</th>\n",
       "      <th>Office_Cubicle</th>\n",
       "      <th>Office_Shared</th>\n",
       "      <th>Retirement_Ineligible</th>\n",
       "    </tr>\n",
       "  </thead>\n",
       "  <tbody>\n",
       "    <tr>\n",
       "      <th>11057</th>\n",
       "      <td>4.846690</td>\n",
       "      <td>2</td>\n",
       "      <td>0</td>\n",
       "      <td>14</td>\n",
       "      <td>0</td>\n",
       "      <td>0</td>\n",
       "      <td>0</td>\n",
       "      <td>0</td>\n",
       "      <td>0</td>\n",
       "      <td>0</td>\n",
       "      <td>...</td>\n",
       "      <td>0</td>\n",
       "      <td>0</td>\n",
       "      <td>0</td>\n",
       "      <td>0</td>\n",
       "      <td>1</td>\n",
       "      <td>0</td>\n",
       "      <td>0</td>\n",
       "      <td>1</td>\n",
       "      <td>0</td>\n",
       "      <td>1</td>\n",
       "    </tr>\n",
       "    <tr>\n",
       "      <th>10951</th>\n",
       "      <td>5.648885</td>\n",
       "      <td>9</td>\n",
       "      <td>31</td>\n",
       "      <td>14</td>\n",
       "      <td>0</td>\n",
       "      <td>0</td>\n",
       "      <td>0</td>\n",
       "      <td>1</td>\n",
       "      <td>0</td>\n",
       "      <td>0</td>\n",
       "      <td>...</td>\n",
       "      <td>0</td>\n",
       "      <td>0</td>\n",
       "      <td>0</td>\n",
       "      <td>0</td>\n",
       "      <td>0</td>\n",
       "      <td>1</td>\n",
       "      <td>1</td>\n",
       "      <td>0</td>\n",
       "      <td>1</td>\n",
       "      <td>1</td>\n",
       "    </tr>\n",
       "    <tr>\n",
       "      <th>1739</th>\n",
       "      <td>5.750805</td>\n",
       "      <td>15</td>\n",
       "      <td>34</td>\n",
       "      <td>41</td>\n",
       "      <td>0</td>\n",
       "      <td>1</td>\n",
       "      <td>0</td>\n",
       "      <td>0</td>\n",
       "      <td>0</td>\n",
       "      <td>0</td>\n",
       "      <td>...</td>\n",
       "      <td>0</td>\n",
       "      <td>0</td>\n",
       "      <td>0</td>\n",
       "      <td>0</td>\n",
       "      <td>0</td>\n",
       "      <td>1</td>\n",
       "      <td>1</td>\n",
       "      <td>0</td>\n",
       "      <td>1</td>\n",
       "      <td>1</td>\n",
       "    </tr>\n",
       "    <tr>\n",
       "      <th>3811</th>\n",
       "      <td>4.974898</td>\n",
       "      <td>1</td>\n",
       "      <td>0</td>\n",
       "      <td>3</td>\n",
       "      <td>0</td>\n",
       "      <td>0</td>\n",
       "      <td>1</td>\n",
       "      <td>0</td>\n",
       "      <td>0</td>\n",
       "      <td>0</td>\n",
       "      <td>...</td>\n",
       "      <td>0</td>\n",
       "      <td>0</td>\n",
       "      <td>0</td>\n",
       "      <td>0</td>\n",
       "      <td>1</td>\n",
       "      <td>0</td>\n",
       "      <td>0</td>\n",
       "      <td>1</td>\n",
       "      <td>0</td>\n",
       "      <td>1</td>\n",
       "    </tr>\n",
       "    <tr>\n",
       "      <th>2282</th>\n",
       "      <td>5.207971</td>\n",
       "      <td>5</td>\n",
       "      <td>5</td>\n",
       "      <td>7</td>\n",
       "      <td>0</td>\n",
       "      <td>0</td>\n",
       "      <td>0</td>\n",
       "      <td>0</td>\n",
       "      <td>1</td>\n",
       "      <td>0</td>\n",
       "      <td>...</td>\n",
       "      <td>0</td>\n",
       "      <td>0</td>\n",
       "      <td>0</td>\n",
       "      <td>0</td>\n",
       "      <td>1</td>\n",
       "      <td>0</td>\n",
       "      <td>0</td>\n",
       "      <td>1</td>\n",
       "      <td>0</td>\n",
       "      <td>1</td>\n",
       "    </tr>\n",
       "    <tr>\n",
       "      <th>7484</th>\n",
       "      <td>5.114784</td>\n",
       "      <td>4</td>\n",
       "      <td>3</td>\n",
       "      <td>45</td>\n",
       "      <td>0</td>\n",
       "      <td>0</td>\n",
       "      <td>0</td>\n",
       "      <td>0</td>\n",
       "      <td>1</td>\n",
       "      <td>0</td>\n",
       "      <td>...</td>\n",
       "      <td>0</td>\n",
       "      <td>0</td>\n",
       "      <td>0</td>\n",
       "      <td>0</td>\n",
       "      <td>1</td>\n",
       "      <td>0</td>\n",
       "      <td>0</td>\n",
       "      <td>1</td>\n",
       "      <td>0</td>\n",
       "      <td>1</td>\n",
       "    </tr>\n",
       "    <tr>\n",
       "      <th>21075</th>\n",
       "      <td>4.947914</td>\n",
       "      <td>2</td>\n",
       "      <td>0</td>\n",
       "      <td>17</td>\n",
       "      <td>0</td>\n",
       "      <td>0</td>\n",
       "      <td>0</td>\n",
       "      <td>0</td>\n",
       "      <td>0</td>\n",
       "      <td>0</td>\n",
       "      <td>...</td>\n",
       "      <td>0</td>\n",
       "      <td>0</td>\n",
       "      <td>0</td>\n",
       "      <td>0</td>\n",
       "      <td>1</td>\n",
       "      <td>0</td>\n",
       "      <td>0</td>\n",
       "      <td>1</td>\n",
       "      <td>0</td>\n",
       "      <td>1</td>\n",
       "    </tr>\n",
       "    <tr>\n",
       "      <th>21878</th>\n",
       "      <td>4.947953</td>\n",
       "      <td>2</td>\n",
       "      <td>0</td>\n",
       "      <td>32</td>\n",
       "      <td>0</td>\n",
       "      <td>0</td>\n",
       "      <td>0</td>\n",
       "      <td>1</td>\n",
       "      <td>0</td>\n",
       "      <td>0</td>\n",
       "      <td>...</td>\n",
       "      <td>0</td>\n",
       "      <td>0</td>\n",
       "      <td>0</td>\n",
       "      <td>0</td>\n",
       "      <td>1</td>\n",
       "      <td>0</td>\n",
       "      <td>0</td>\n",
       "      <td>1</td>\n",
       "      <td>0</td>\n",
       "      <td>1</td>\n",
       "    </tr>\n",
       "    <tr>\n",
       "      <th>5814</th>\n",
       "      <td>4.832777</td>\n",
       "      <td>2</td>\n",
       "      <td>0</td>\n",
       "      <td>12</td>\n",
       "      <td>0</td>\n",
       "      <td>0</td>\n",
       "      <td>0</td>\n",
       "      <td>0</td>\n",
       "      <td>0</td>\n",
       "      <td>0</td>\n",
       "      <td>...</td>\n",
       "      <td>0</td>\n",
       "      <td>0</td>\n",
       "      <td>1</td>\n",
       "      <td>0</td>\n",
       "      <td>1</td>\n",
       "      <td>0</td>\n",
       "      <td>0</td>\n",
       "      <td>1</td>\n",
       "      <td>0</td>\n",
       "      <td>1</td>\n",
       "    </tr>\n",
       "    <tr>\n",
       "      <th>5740</th>\n",
       "      <td>5.139211</td>\n",
       "      <td>6</td>\n",
       "      <td>5</td>\n",
       "      <td>12</td>\n",
       "      <td>1</td>\n",
       "      <td>0</td>\n",
       "      <td>0</td>\n",
       "      <td>0</td>\n",
       "      <td>1</td>\n",
       "      <td>0</td>\n",
       "      <td>...</td>\n",
       "      <td>0</td>\n",
       "      <td>0</td>\n",
       "      <td>0</td>\n",
       "      <td>0</td>\n",
       "      <td>1</td>\n",
       "      <td>0</td>\n",
       "      <td>0</td>\n",
       "      <td>1</td>\n",
       "      <td>0</td>\n",
       "      <td>1</td>\n",
       "    </tr>\n",
       "  </tbody>\n",
       "</table>\n",
       "<p>10 rows × 28 columns</p>\n",
       "</div>"
      ],
      "text/plain": [
       "       SalaryCY  Years  Reports  Floor  Region_Europe  Region_North America  \\\n",
       "11057  4.846690      2        0     14              0                     0   \n",
       "10951  5.648885      9       31     14              0                     0   \n",
       "1739   5.750805     15       34     41              0                     1   \n",
       "3811   4.974898      1        0      3              0                     0   \n",
       "2282   5.207971      5        5      7              0                     0   \n",
       "7484   5.114784      4        3     45              0                     0   \n",
       "21075  4.947914      2        0     17              0                     0   \n",
       "21878  4.947953      2        0     32              0                     0   \n",
       "5814   4.832777      2        0     12              0                     0   \n",
       "5740   5.139211      6        5     12              1                     0   \n",
       "\n",
       "       Region_Switzerland  Region_UK  Title_Associate  Title_MD  ...  \\\n",
       "11057                   0          0                0         0  ...   \n",
       "10951                   0          1                0         0  ...   \n",
       "1739                    0          0                0         0  ...   \n",
       "3811                    1          0                0         0  ...   \n",
       "2282                    0          0                1         0  ...   \n",
       "7484                    0          0                1         0  ...   \n",
       "21075                   0          0                0         0  ...   \n",
       "21878                   0          1                0         0  ...   \n",
       "5814                    0          0                0         0  ...   \n",
       "5740                    0          0                1         0  ...   \n",
       "\n",
       "       Sector_Pharma  Sector_Real Estate  Sector_Retail  Sector_Tech  \\\n",
       "11057              0                   0              0            0   \n",
       "10951              0                   0              0            0   \n",
       "1739               0                   0              0            0   \n",
       "3811               0                   0              0            0   \n",
       "2282               0                   0              0            0   \n",
       "7484               0                   0              0            0   \n",
       "21075              0                   0              0            0   \n",
       "21878              0                   0              0            0   \n",
       "5814               0                   0              1            0   \n",
       "5740               0                   0              0            0   \n",
       "\n",
       "       Level_Junior  Level_VP  Career_Senior  Office_Cubicle  Office_Shared  \\\n",
       "11057             1         0              0               1              0   \n",
       "10951             0         1              1               0              1   \n",
       "1739              0         1              1               0              1   \n",
       "3811              1         0              0               1              0   \n",
       "2282              1         0              0               1              0   \n",
       "7484              1         0              0               1              0   \n",
       "21075             1         0              0               1              0   \n",
       "21878             1         0              0               1              0   \n",
       "5814              1         0              0               1              0   \n",
       "5740              1         0              0               1              0   \n",
       "\n",
       "       Retirement_Ineligible  \n",
       "11057                      1  \n",
       "10951                      1  \n",
       "1739                       1  \n",
       "3811                       1  \n",
       "2282                       1  \n",
       "7484                       1  \n",
       "21075                      1  \n",
       "21878                      1  \n",
       "5814                       1  \n",
       "5740                       1  \n",
       "\n",
       "[10 rows x 28 columns]"
      ]
     },
     "execution_count": 33,
     "metadata": {},
     "output_type": "execute_result"
    }
   ],
   "source": [
    "comp_data_dummy.sample(10)"
   ]
  },
  {
   "cell_type": "markdown",
   "metadata": {},
   "source": [
    "## Create response vector"
   ]
  },
  {
   "cell_type": "code",
   "execution_count": 34,
   "metadata": {},
   "outputs": [],
   "source": [
    "y = comp_data_dummy.pop(\"SalaryCY\")"
   ]
  },
  {
   "cell_type": "code",
   "execution_count": 35,
   "metadata": {},
   "outputs": [
    {
     "data": {
      "text/html": [
       "<div>\n",
       "<style scoped>\n",
       "    .dataframe tbody tr th:only-of-type {\n",
       "        vertical-align: middle;\n",
       "    }\n",
       "\n",
       "    .dataframe tbody tr th {\n",
       "        vertical-align: top;\n",
       "    }\n",
       "\n",
       "    .dataframe thead th {\n",
       "        text-align: right;\n",
       "    }\n",
       "</style>\n",
       "<table border=\"1\" class=\"dataframe\">\n",
       "  <thead>\n",
       "    <tr style=\"text-align: right;\">\n",
       "      <th></th>\n",
       "      <th>Years</th>\n",
       "      <th>Reports</th>\n",
       "      <th>Floor</th>\n",
       "      <th>Region_Europe</th>\n",
       "      <th>Region_North America</th>\n",
       "      <th>Region_Switzerland</th>\n",
       "      <th>Region_UK</th>\n",
       "      <th>Title_Associate</th>\n",
       "      <th>Title_MD</th>\n",
       "      <th>Title_VP</th>\n",
       "      <th>...</th>\n",
       "      <th>Sector_Pharma</th>\n",
       "      <th>Sector_Real Estate</th>\n",
       "      <th>Sector_Retail</th>\n",
       "      <th>Sector_Tech</th>\n",
       "      <th>Level_Junior</th>\n",
       "      <th>Level_VP</th>\n",
       "      <th>Career_Senior</th>\n",
       "      <th>Office_Cubicle</th>\n",
       "      <th>Office_Shared</th>\n",
       "      <th>Retirement_Ineligible</th>\n",
       "    </tr>\n",
       "  </thead>\n",
       "  <tbody>\n",
       "    <tr>\n",
       "      <th>0</th>\n",
       "      <td>2</td>\n",
       "      <td>0</td>\n",
       "      <td>12</td>\n",
       "      <td>0</td>\n",
       "      <td>1</td>\n",
       "      <td>0</td>\n",
       "      <td>0</td>\n",
       "      <td>0</td>\n",
       "      <td>0</td>\n",
       "      <td>0</td>\n",
       "      <td>...</td>\n",
       "      <td>0</td>\n",
       "      <td>0</td>\n",
       "      <td>0</td>\n",
       "      <td>0</td>\n",
       "      <td>1</td>\n",
       "      <td>0</td>\n",
       "      <td>0</td>\n",
       "      <td>1</td>\n",
       "      <td>0</td>\n",
       "      <td>1</td>\n",
       "    </tr>\n",
       "    <tr>\n",
       "      <th>1</th>\n",
       "      <td>5</td>\n",
       "      <td>5</td>\n",
       "      <td>34</td>\n",
       "      <td>0</td>\n",
       "      <td>1</td>\n",
       "      <td>0</td>\n",
       "      <td>0</td>\n",
       "      <td>1</td>\n",
       "      <td>0</td>\n",
       "      <td>0</td>\n",
       "      <td>...</td>\n",
       "      <td>0</td>\n",
       "      <td>0</td>\n",
       "      <td>0</td>\n",
       "      <td>0</td>\n",
       "      <td>1</td>\n",
       "      <td>0</td>\n",
       "      <td>0</td>\n",
       "      <td>1</td>\n",
       "      <td>0</td>\n",
       "      <td>1</td>\n",
       "    </tr>\n",
       "    <tr>\n",
       "      <th>2</th>\n",
       "      <td>3</td>\n",
       "      <td>0</td>\n",
       "      <td>26</td>\n",
       "      <td>0</td>\n",
       "      <td>1</td>\n",
       "      <td>0</td>\n",
       "      <td>0</td>\n",
       "      <td>0</td>\n",
       "      <td>0</td>\n",
       "      <td>0</td>\n",
       "      <td>...</td>\n",
       "      <td>0</td>\n",
       "      <td>1</td>\n",
       "      <td>0</td>\n",
       "      <td>0</td>\n",
       "      <td>1</td>\n",
       "      <td>0</td>\n",
       "      <td>0</td>\n",
       "      <td>1</td>\n",
       "      <td>0</td>\n",
       "      <td>1</td>\n",
       "    </tr>\n",
       "    <tr>\n",
       "      <th>3</th>\n",
       "      <td>4</td>\n",
       "      <td>2</td>\n",
       "      <td>21</td>\n",
       "      <td>0</td>\n",
       "      <td>1</td>\n",
       "      <td>0</td>\n",
       "      <td>0</td>\n",
       "      <td>1</td>\n",
       "      <td>0</td>\n",
       "      <td>0</td>\n",
       "      <td>...</td>\n",
       "      <td>0</td>\n",
       "      <td>1</td>\n",
       "      <td>0</td>\n",
       "      <td>0</td>\n",
       "      <td>1</td>\n",
       "      <td>0</td>\n",
       "      <td>0</td>\n",
       "      <td>1</td>\n",
       "      <td>0</td>\n",
       "      <td>1</td>\n",
       "    </tr>\n",
       "    <tr>\n",
       "      <th>4</th>\n",
       "      <td>15</td>\n",
       "      <td>34</td>\n",
       "      <td>31</td>\n",
       "      <td>0</td>\n",
       "      <td>1</td>\n",
       "      <td>0</td>\n",
       "      <td>0</td>\n",
       "      <td>0</td>\n",
       "      <td>0</td>\n",
       "      <td>1</td>\n",
       "      <td>...</td>\n",
       "      <td>0</td>\n",
       "      <td>0</td>\n",
       "      <td>0</td>\n",
       "      <td>0</td>\n",
       "      <td>0</td>\n",
       "      <td>1</td>\n",
       "      <td>1</td>\n",
       "      <td>0</td>\n",
       "      <td>1</td>\n",
       "      <td>1</td>\n",
       "    </tr>\n",
       "  </tbody>\n",
       "</table>\n",
       "<p>5 rows × 27 columns</p>\n",
       "</div>"
      ],
      "text/plain": [
       "   Years  Reports  Floor  Region_Europe  Region_North America  \\\n",
       "0      2        0     12              0                     1   \n",
       "1      5        5     34              0                     1   \n",
       "2      3        0     26              0                     1   \n",
       "3      4        2     21              0                     1   \n",
       "4     15       34     31              0                     1   \n",
       "\n",
       "   Region_Switzerland  Region_UK  Title_Associate  Title_MD  Title_VP  ...  \\\n",
       "0                   0          0                0         0         0  ...   \n",
       "1                   0          0                1         0         0  ...   \n",
       "2                   0          0                0         0         0  ...   \n",
       "3                   0          0                1         0         0  ...   \n",
       "4                   0          0                0         0         1  ...   \n",
       "\n",
       "   Sector_Pharma  Sector_Real Estate  Sector_Retail  Sector_Tech  \\\n",
       "0              0                   0              0            0   \n",
       "1              0                   0              0            0   \n",
       "2              0                   1              0            0   \n",
       "3              0                   1              0            0   \n",
       "4              0                   0              0            0   \n",
       "\n",
       "   Level_Junior  Level_VP  Career_Senior  Office_Cubicle  Office_Shared  \\\n",
       "0             1         0              0               1              0   \n",
       "1             1         0              0               1              0   \n",
       "2             1         0              0               1              0   \n",
       "3             1         0              0               1              0   \n",
       "4             0         1              1               0              1   \n",
       "\n",
       "   Retirement_Ineligible  \n",
       "0                      1  \n",
       "1                      1  \n",
       "2                      1  \n",
       "3                      1  \n",
       "4                      1  \n",
       "\n",
       "[5 rows x 27 columns]"
      ]
     },
     "execution_count": 35,
     "metadata": {},
     "output_type": "execute_result"
    }
   ],
   "source": [
    "comp_data_dummy.head()"
   ]
  },
  {
   "cell_type": "code",
   "execution_count": 36,
   "metadata": {},
   "outputs": [
    {
     "data": {
      "text/plain": [
       "0    4.954267\n",
       "1    5.204706\n",
       "2    4.919925\n",
       "3    5.148189\n",
       "4    5.741808\n",
       "Name: SalaryCY, dtype: float64"
      ]
     },
     "execution_count": 36,
     "metadata": {},
     "output_type": "execute_result"
    }
   ],
   "source": [
    "y.head()"
   ]
  },
  {
   "cell_type": "code",
   "execution_count": 37,
   "metadata": {},
   "outputs": [
    {
     "data": {
      "text/plain": [
       "Index(['Years', 'Reports', 'Floor', 'Region_Europe', 'Region_North America',\n",
       "       'Region_Switzerland', 'Region_UK', 'Title_Associate', 'Title_MD',\n",
       "       'Title_VP', 'Review_Neutral', 'Review_Positive', 'Sector_Automotive',\n",
       "       'Sector_CPG', 'Sector_Industrials', 'Sector_Law', 'Sector_Media',\n",
       "       'Sector_Pharma', 'Sector_Real Estate', 'Sector_Retail', 'Sector_Tech',\n",
       "       'Level_Junior', 'Level_VP', 'Career_Senior', 'Office_Cubicle',\n",
       "       'Office_Shared', 'Retirement_Ineligible'],\n",
       "      dtype='object')"
      ]
     },
     "execution_count": 37,
     "metadata": {},
     "output_type": "execute_result"
    }
   ],
   "source": [
    "comp_data_dummy.columns"
   ]
  },
  {
   "cell_type": "code",
   "execution_count": 38,
   "metadata": {},
   "outputs": [
    {
     "data": {
      "text/plain": [
       "27"
      ]
     },
     "execution_count": 38,
     "metadata": {},
     "output_type": "execute_result"
    }
   ],
   "source": [
    "len(comp_data_dummy.columns)"
   ]
  },
  {
   "cell_type": "markdown",
   "metadata": {},
   "source": [
    "## Variance threshold"
   ]
  },
  {
   "cell_type": "code",
   "execution_count": 39,
   "metadata": {},
   "outputs": [],
   "source": [
    "from sklearn.feature_selection import VarianceThreshold\n",
    "selector = VarianceThreshold()\n",
    "X = selector.fit_transform(comp_data_dummy)"
   ]
  },
  {
   "cell_type": "code",
   "execution_count": 40,
   "metadata": {},
   "outputs": [
    {
     "data": {
      "text/plain": [
       "27"
      ]
     },
     "execution_count": 40,
     "metadata": {},
     "output_type": "execute_result"
    }
   ],
   "source": [
    "len(comp_data_dummy.columns[selector.get_support(indices=True)])"
   ]
  },
  {
   "cell_type": "code",
   "execution_count": 41,
   "metadata": {},
   "outputs": [
    {
     "data": {
      "text/plain": [
       "(105030, 27)"
      ]
     },
     "execution_count": 41,
     "metadata": {},
     "output_type": "execute_result"
    }
   ],
   "source": [
    "X.shape"
   ]
  },
  {
   "cell_type": "markdown",
   "metadata": {},
   "source": [
    "## Imputation"
   ]
  },
  {
   "cell_type": "code",
   "execution_count": 42,
   "metadata": {},
   "outputs": [],
   "source": [
    "# from sklearn.impute import SimpleImputer\n",
    "# imp = SimpleImputer(missing_values=np.nan, strategy='mean') # strategy=\"most_frequent\""
   ]
  },
  {
   "cell_type": "markdown",
   "metadata": {},
   "source": [
    "models each feature with missing values as a function of other features, and uses that estimate for imputation. It does so in an iterated round-robin fashion: at each step, a feature column is designated as output y and the other feature columns are treated as inputs X. A regressor is fit on (X, y) for known y. Then, the regressor is used to predict the missing values of y. This is done for each feature in an iterative fashion, and then is repeated for max_iter imputation rounds. The results of the final imputation round are returned."
   ]
  },
  {
   "cell_type": "code",
   "execution_count": 43,
   "metadata": {},
   "outputs": [],
   "source": [
    "from sklearn.experimental import enable_iterative_imputer\n",
    "from sklearn.impute import IterativeImputer"
   ]
  },
  {
   "cell_type": "code",
   "execution_count": 44,
   "metadata": {},
   "outputs": [],
   "source": [
    "imp = IterativeImputer(max_iter=10, random_state=0)\n",
    "imp.fit(X)\n",
    "X = imp.transform(X)"
   ]
  },
  {
   "cell_type": "markdown",
   "metadata": {},
   "source": [
    "## Normalize"
   ]
  },
  {
   "cell_type": "code",
   "execution_count": 45,
   "metadata": {},
   "outputs": [],
   "source": [
    "from sklearn.preprocessing import Normalizer\n",
    "transformer = Normalizer().fit(X)\n",
    "X = transformer.transform(X)"
   ]
  },
  {
   "cell_type": "code",
   "execution_count": null,
   "metadata": {},
   "outputs": [],
   "source": []
  },
  {
   "cell_type": "markdown",
   "metadata": {},
   "source": [
    "## Train test split"
   ]
  },
  {
   "cell_type": "code",
   "execution_count": 46,
   "metadata": {},
   "outputs": [],
   "source": [
    "from sklearn.model_selection import train_test_split"
   ]
  },
  {
   "cell_type": "code",
   "execution_count": 47,
   "metadata": {},
   "outputs": [],
   "source": [
    "X_train, X_test, y_train, y_test = train_test_split(\n",
    "    X, y, test_size=.2, random_state=42\n",
    ")"
   ]
  },
  {
   "cell_type": "code",
   "execution_count": null,
   "metadata": {},
   "outputs": [],
   "source": []
  },
  {
   "cell_type": "code",
   "execution_count": null,
   "metadata": {},
   "outputs": [],
   "source": []
  },
  {
   "cell_type": "markdown",
   "metadata": {},
   "source": [
    "# Sklearn linear model"
   ]
  },
  {
   "cell_type": "code",
   "execution_count": 48,
   "metadata": {},
   "outputs": [],
   "source": [
    "from sklearn.linear_model import LinearRegression\n",
    "reg = LinearRegression().fit(X_train, y_train)"
   ]
  },
  {
   "cell_type": "code",
   "execution_count": null,
   "metadata": {},
   "outputs": [],
   "source": []
  },
  {
   "cell_type": "code",
   "execution_count": null,
   "metadata": {},
   "outputs": [],
   "source": []
  },
  {
   "cell_type": "code",
   "execution_count": 49,
   "metadata": {},
   "outputs": [
    {
     "data": {
      "text/plain": [
       "array([ 5.44476989e-01,  1.10209198e+00,  5.18673520e-01, -1.45657467e-01,\n",
       "        4.07616158e-01,  6.34706470e-01,  2.35469792e-01, -1.18129385e+00,\n",
       "        2.07673940e+02, -5.20915865e+01,  2.92830263e-01,  8.70321811e-01,\n",
       "        3.38267926e-02,  3.17027679e-02,  3.39353287e-02,  2.84931932e-02,\n",
       "        3.38347885e-02,  1.65399599e-02,  3.58686079e-02,  2.36609735e-02,\n",
       "        1.56939424e-02, -7.25320936e-01, -5.20915865e+01,  1.55582354e+02,\n",
       "       -7.25320936e-01, -5.20915865e+01,  1.84825397e-01])"
      ]
     },
     "execution_count": 49,
     "metadata": {},
     "output_type": "execute_result"
    }
   ],
   "source": [
    "reg.coef_"
   ]
  },
  {
   "cell_type": "code",
   "execution_count": 50,
   "metadata": {},
   "outputs": [
    {
     "data": {
      "text/plain": [
       "4.408194364826319"
      ]
     },
     "execution_count": 50,
     "metadata": {},
     "output_type": "execute_result"
    }
   ],
   "source": [
    "reg.intercept_"
   ]
  },
  {
   "cell_type": "code",
   "execution_count": 51,
   "metadata": {},
   "outputs": [
    {
     "data": {
      "text/html": [
       "<div>\n",
       "<style scoped>\n",
       "    .dataframe tbody tr th:only-of-type {\n",
       "        vertical-align: middle;\n",
       "    }\n",
       "\n",
       "    .dataframe tbody tr th {\n",
       "        vertical-align: top;\n",
       "    }\n",
       "\n",
       "    .dataframe thead th {\n",
       "        text-align: right;\n",
       "    }\n",
       "</style>\n",
       "<table border=\"1\" class=\"dataframe\">\n",
       "  <thead>\n",
       "    <tr style=\"text-align: right;\">\n",
       "      <th></th>\n",
       "      <th>coef</th>\n",
       "    </tr>\n",
       "  </thead>\n",
       "  <tbody>\n",
       "    <tr>\n",
       "      <th>intercept</th>\n",
       "      <td>4.408194</td>\n",
       "    </tr>\n",
       "    <tr>\n",
       "      <th>Years</th>\n",
       "      <td>0.544477</td>\n",
       "    </tr>\n",
       "    <tr>\n",
       "      <th>Reports</th>\n",
       "      <td>1.102092</td>\n",
       "    </tr>\n",
       "    <tr>\n",
       "      <th>Floor</th>\n",
       "      <td>0.518674</td>\n",
       "    </tr>\n",
       "    <tr>\n",
       "      <th>Region_Europe</th>\n",
       "      <td>-0.145657</td>\n",
       "    </tr>\n",
       "    <tr>\n",
       "      <th>Region_North America</th>\n",
       "      <td>0.407616</td>\n",
       "    </tr>\n",
       "    <tr>\n",
       "      <th>Region_Switzerland</th>\n",
       "      <td>0.634706</td>\n",
       "    </tr>\n",
       "    <tr>\n",
       "      <th>Region_UK</th>\n",
       "      <td>0.235470</td>\n",
       "    </tr>\n",
       "    <tr>\n",
       "      <th>Title_Associate</th>\n",
       "      <td>-1.181294</td>\n",
       "    </tr>\n",
       "    <tr>\n",
       "      <th>Title_MD</th>\n",
       "      <td>207.673940</td>\n",
       "    </tr>\n",
       "    <tr>\n",
       "      <th>Title_VP</th>\n",
       "      <td>-52.091587</td>\n",
       "    </tr>\n",
       "    <tr>\n",
       "      <th>Review_Neutral</th>\n",
       "      <td>0.292830</td>\n",
       "    </tr>\n",
       "    <tr>\n",
       "      <th>Review_Positive</th>\n",
       "      <td>0.870322</td>\n",
       "    </tr>\n",
       "    <tr>\n",
       "      <th>Sector_Automotive</th>\n",
       "      <td>0.033827</td>\n",
       "    </tr>\n",
       "    <tr>\n",
       "      <th>Sector_CPG</th>\n",
       "      <td>0.031703</td>\n",
       "    </tr>\n",
       "    <tr>\n",
       "      <th>Sector_Industrials</th>\n",
       "      <td>0.033935</td>\n",
       "    </tr>\n",
       "    <tr>\n",
       "      <th>Sector_Law</th>\n",
       "      <td>0.028493</td>\n",
       "    </tr>\n",
       "    <tr>\n",
       "      <th>Sector_Media</th>\n",
       "      <td>0.033835</td>\n",
       "    </tr>\n",
       "    <tr>\n",
       "      <th>Sector_Pharma</th>\n",
       "      <td>0.016540</td>\n",
       "    </tr>\n",
       "    <tr>\n",
       "      <th>Sector_Real Estate</th>\n",
       "      <td>0.035869</td>\n",
       "    </tr>\n",
       "    <tr>\n",
       "      <th>Sector_Retail</th>\n",
       "      <td>0.023661</td>\n",
       "    </tr>\n",
       "    <tr>\n",
       "      <th>Sector_Tech</th>\n",
       "      <td>0.015694</td>\n",
       "    </tr>\n",
       "    <tr>\n",
       "      <th>Level_Junior</th>\n",
       "      <td>-0.725321</td>\n",
       "    </tr>\n",
       "    <tr>\n",
       "      <th>Level_VP</th>\n",
       "      <td>-52.091587</td>\n",
       "    </tr>\n",
       "    <tr>\n",
       "      <th>Career_Senior</th>\n",
       "      <td>155.582354</td>\n",
       "    </tr>\n",
       "    <tr>\n",
       "      <th>Office_Cubicle</th>\n",
       "      <td>-0.725321</td>\n",
       "    </tr>\n",
       "    <tr>\n",
       "      <th>Office_Shared</th>\n",
       "      <td>-52.091587</td>\n",
       "    </tr>\n",
       "    <tr>\n",
       "      <th>Retirement_Ineligible</th>\n",
       "      <td>0.184825</td>\n",
       "    </tr>\n",
       "  </tbody>\n",
       "</table>\n",
       "</div>"
      ],
      "text/plain": [
       "                             coef\n",
       "intercept                4.408194\n",
       "Years                    0.544477\n",
       "Reports                  1.102092\n",
       "Floor                    0.518674\n",
       "Region_Europe           -0.145657\n",
       "Region_North America     0.407616\n",
       "Region_Switzerland       0.634706\n",
       "Region_UK                0.235470\n",
       "Title_Associate         -1.181294\n",
       "Title_MD               207.673940\n",
       "Title_VP               -52.091587\n",
       "Review_Neutral           0.292830\n",
       "Review_Positive          0.870322\n",
       "Sector_Automotive        0.033827\n",
       "Sector_CPG               0.031703\n",
       "Sector_Industrials       0.033935\n",
       "Sector_Law               0.028493\n",
       "Sector_Media             0.033835\n",
       "Sector_Pharma            0.016540\n",
       "Sector_Real Estate       0.035869\n",
       "Sector_Retail            0.023661\n",
       "Sector_Tech              0.015694\n",
       "Level_Junior            -0.725321\n",
       "Level_VP               -52.091587\n",
       "Career_Senior          155.582354\n",
       "Office_Cubicle          -0.725321\n",
       "Office_Shared          -52.091587\n",
       "Retirement_Ineligible    0.184825"
      ]
     },
     "execution_count": 51,
     "metadata": {},
     "output_type": "execute_result"
    }
   ],
   "source": [
    "coeffs = np.append(reg.intercept_, reg.coef_)\n",
    "names = np.append('intercept', comp_data_dummy.columns)\n",
    "results = pd.DataFrame(coeffs, index=names, columns=['coef'])\n",
    "results"
   ]
  },
  {
   "cell_type": "code",
   "execution_count": 52,
   "metadata": {},
   "outputs": [
    {
     "data": {
      "text/plain": [
       "Intercept                   68813.715051\n",
       "Region[T.Europe]            -4727.906712\n",
       "Region[T.North America]      9307.110533\n",
       "Region[T.Switzerland]       16173.004268\n",
       "Region[T.UK]                 4706.291822\n",
       "Title[T.Associate]           4157.614902\n",
       "Title[T.MD]                110184.759326\n",
       "Title[T.VP]                -37436.903147\n",
       "Sector[T.Automotive]        -1169.174335\n",
       "Sector[T.CPG]                -535.526094\n",
       "Sector[T.Industrials]       -1114.139051\n",
       "Sector[T.Law]                -530.220485\n",
       "Sector[T.Media]              -482.229757\n",
       "Sector[T.Pharma]             -840.955243\n",
       "Sector[T.Real Estate]        -936.114514\n",
       "Sector[T.Retail]             -611.088702\n",
       "Sector[T.Tech]               -836.713901\n",
       "Level[T.Junior]             -3934.141127\n",
       "Level[T.VP]                -37436.903147\n",
       "Career[T.Senior]            72747.856179\n",
       "Years                        7416.627910\n",
       "Reports                     10608.422609\n",
       "Floor                          -3.876364\n",
       "dtype: float64"
      ]
     },
     "execution_count": 52,
     "metadata": {},
     "output_type": "execute_result"
    }
   ],
   "source": [
    "sm_results.params"
   ]
  },
  {
   "cell_type": "code",
   "execution_count": 53,
   "metadata": {},
   "outputs": [
    {
     "data": {
      "text/plain": [
       "0.9701613788036986"
      ]
     },
     "execution_count": 53,
     "metadata": {},
     "output_type": "execute_result"
    }
   ],
   "source": [
    "reg.score(X_train, y_train)"
   ]
  },
  {
   "cell_type": "code",
   "execution_count": 54,
   "metadata": {},
   "outputs": [
    {
     "data": {
      "text/plain": [
       "0.9700252068833983"
      ]
     },
     "execution_count": 54,
     "metadata": {},
     "output_type": "execute_result"
    }
   ],
   "source": [
    "reg.score(X_test, y_test)"
   ]
  },
  {
   "cell_type": "code",
   "execution_count": 55,
   "metadata": {},
   "outputs": [],
   "source": [
    "import matplotlib.pyplot as plt"
   ]
  },
  {
   "cell_type": "code",
   "execution_count": 56,
   "metadata": {},
   "outputs": [
    {
     "data": {
      "text/plain": [
       "<matplotlib.collections.PathCollection at 0x7f591a20e2d0>"
      ]
     },
     "execution_count": 56,
     "metadata": {},
     "output_type": "execute_result"
    },
    {
     "data": {
      "image/png": "[encoded data removed]",
      "text/plain": [
       "<Figure size 432x288 with 1 Axes>"
      ]
     },
     "metadata": {
      "needs_background": "light"
     },
     "output_type": "display_data"
    }
   ],
   "source": [
    "plt.scatter(y_test, reg.predict(X_test))"
   ]
  },
  {
   "cell_type": "code",
   "execution_count": null,
   "metadata": {},
   "outputs": [],
   "source": []
  },
  {
   "cell_type": "code",
   "execution_count": null,
   "metadata": {},
   "outputs": [],
   "source": []
  },
  {
   "cell_type": "code",
   "execution_count": null,
   "metadata": {},
   "outputs": [],
   "source": []
  },
  {
   "cell_type": "code",
   "execution_count": null,
   "metadata": {},
   "outputs": [],
   "source": []
  },
  {
   "cell_type": "code",
   "execution_count": null,
   "metadata": {},
   "outputs": [],
   "source": []
  },
  {
   "cell_type": "markdown",
   "metadata": {},
   "source": [
    "overfitting: low training set error, high test set error -- variance: how much f-hat is inconsistent over different training sets. high variance models lead to overfitting\n",
    "\n",
    "underfitting: training set error ~ test set error (both relatively high) -- high bias models lead to underfitting (bias error term that tells you on average when f-hat ~= f)\n",
    "\n",
    "bias + variance\n",
    "\n",
    "\n",
    "\n"
   ]
  },
  {
   "cell_type": "markdown",
   "metadata": {},
   "source": [
    "regression mesaures: https://www.h2o.ai/blog/regression-metrics-guide/\n",
    "        \n",
    "        "
   ]
  },
  {
   "cell_type": "markdown",
   "metadata": {},
   "source": [
    "evaluation done via cross-validation\n",
    "\n",
    "k-fold cv and hold out\n",
    "\n",
    "cv error is the mean of the k-fold errors\n",
    "use the cv error avainst the training set set error\n",
    "\n",
    "cv error of f-hat > training set oerror fhat -- high variance, -> overfit\n",
    "\n",
    "high bias if cv error ~ training set orror >> desiered error\n",
    "\n",
    "\n",
    " suffers from high bias because RMSE_CV ≈ RMSE_train and both scores are greater than baseline_RMSE."
   ]
  },
  {
   "cell_type": "code",
   "execution_count": null,
   "metadata": {},
   "outputs": [],
   "source": []
  },
  {
   "cell_type": "code",
   "execution_count": 57,
   "metadata": {},
   "outputs": [],
   "source": [
    "# from sklearn.metrics import mean_squared_error as MSE\n",
    "# from sklearn.model_selection import cross_val_score"
   ]
  },
  {
   "cell_type": "code",
   "execution_count": 58,
   "metadata": {},
   "outputs": [],
   "source": [
    "# MSE_CV = - cross_val_score(scoring = 'neg_mean_squared_error')"
   ]
  },
  {
   "cell_type": "code",
   "execution_count": 59,
   "metadata": {},
   "outputs": [],
   "source": [
    "# fit model to the full training set\n",
    "\n",
    "# predict the labels of the training set\n",
    "\n",
    "# predict labels of test set"
   ]
  },
  {
   "cell_type": "code",
   "execution_count": 60,
   "metadata": {},
   "outputs": [],
   "source": [
    "# MSE_CV.mean()"
   ]
  },
  {
   "cell_type": "code",
   "execution_count": 61,
   "metadata": {},
   "outputs": [],
   "source": [
    "# training set MSE(t_train, t_predict_train)\n",
    "\n",
    "# test MSE(y_test, y_predict_test)"
   ]
  }
 ],
 "metadata": {
  "kernelspec": {
   "display_name": "Python 3",
   "language": "python",
   "name": "python3"
  },
  "language_info": {
   "codemirror_mode": {
    "name": "ipython",
    "version": 3
   },
   "file_extension": ".py",
   "mimetype": "text/x-python",
   "name": "python",
   "nbconvert_exporter": "python",
   "pygments_lexer": "ipython3",
   "version": "3.7.6"
  }
 },
 "nbformat": 4,
 "nbformat_minor": 4
}
