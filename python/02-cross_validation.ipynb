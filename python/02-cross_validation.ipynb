{
 "cells": [
  {
   "cell_type": "code",
   "execution_count": 1,
   "metadata": {},
   "outputs": [],
   "source": [
    "import pandas as pd\n",
    "from pyprojroot import here"
   ]
  },
  {
   "cell_type": "code",
   "execution_count": 2,
   "metadata": {},
   "outputs": [],
   "source": [
    "housing = pd.read_csv(here(\"data/housing_renamed.csv\"))"
   ]
  },
  {
   "cell_type": "code",
   "execution_count": 3,
   "metadata": {},
   "outputs": [
    {
     "data": {
      "text/html": [
       "<div>\n",
       "<style scoped>\n",
       "    .dataframe tbody tr th:only-of-type {\n",
       "        vertical-align: middle;\n",
       "    }\n",
       "\n",
       "    .dataframe tbody tr th {\n",
       "        vertical-align: top;\n",
       "    }\n",
       "\n",
       "    .dataframe thead th {\n",
       "        text-align: right;\n",
       "    }\n",
       "</style>\n",
       "<table border=\"1\" class=\"dataframe\">\n",
       "  <thead>\n",
       "    <tr style=\"text-align: right;\">\n",
       "      <th></th>\n",
       "      <th>neighborhood</th>\n",
       "      <th>type</th>\n",
       "      <th>units</th>\n",
       "      <th>year_built</th>\n",
       "      <th>sq_ft</th>\n",
       "      <th>income</th>\n",
       "      <th>income_per_sq_ft</th>\n",
       "      <th>expense</th>\n",
       "      <th>expense_per_sq_ft</th>\n",
       "      <th>net_income</th>\n",
       "      <th>value</th>\n",
       "      <th>value_per_sq_ft</th>\n",
       "      <th>boro</th>\n",
       "    </tr>\n",
       "  </thead>\n",
       "  <tbody>\n",
       "    <tr>\n",
       "      <th>0</th>\n",
       "      <td>FINANCIAL</td>\n",
       "      <td>R9-CONDOMINIUM</td>\n",
       "      <td>42</td>\n",
       "      <td>1920.0</td>\n",
       "      <td>36500</td>\n",
       "      <td>1332615</td>\n",
       "      <td>36.51</td>\n",
       "      <td>342005</td>\n",
       "      <td>9.37</td>\n",
       "      <td>990610</td>\n",
       "      <td>7300000</td>\n",
       "      <td>200.00</td>\n",
       "      <td>Manhattan</td>\n",
       "    </tr>\n",
       "    <tr>\n",
       "      <th>1</th>\n",
       "      <td>FINANCIAL</td>\n",
       "      <td>R4-CONDOMINIUM</td>\n",
       "      <td>78</td>\n",
       "      <td>1985.0</td>\n",
       "      <td>126420</td>\n",
       "      <td>6633257</td>\n",
       "      <td>52.47</td>\n",
       "      <td>1762295</td>\n",
       "      <td>13.94</td>\n",
       "      <td>4870962</td>\n",
       "      <td>30690000</td>\n",
       "      <td>242.76</td>\n",
       "      <td>Manhattan</td>\n",
       "    </tr>\n",
       "    <tr>\n",
       "      <th>2</th>\n",
       "      <td>FINANCIAL</td>\n",
       "      <td>RR-CONDOMINIUM</td>\n",
       "      <td>500</td>\n",
       "      <td>NaN</td>\n",
       "      <td>554174</td>\n",
       "      <td>17310000</td>\n",
       "      <td>31.24</td>\n",
       "      <td>3543000</td>\n",
       "      <td>6.39</td>\n",
       "      <td>13767000</td>\n",
       "      <td>90970000</td>\n",
       "      <td>164.15</td>\n",
       "      <td>Manhattan</td>\n",
       "    </tr>\n",
       "    <tr>\n",
       "      <th>3</th>\n",
       "      <td>FINANCIAL</td>\n",
       "      <td>R4-CONDOMINIUM</td>\n",
       "      <td>282</td>\n",
       "      <td>1930.0</td>\n",
       "      <td>249076</td>\n",
       "      <td>11776313</td>\n",
       "      <td>47.28</td>\n",
       "      <td>2784670</td>\n",
       "      <td>11.18</td>\n",
       "      <td>8991643</td>\n",
       "      <td>67556006</td>\n",
       "      <td>271.23</td>\n",
       "      <td>Manhattan</td>\n",
       "    </tr>\n",
       "    <tr>\n",
       "      <th>4</th>\n",
       "      <td>TRIBECA</td>\n",
       "      <td>R4-CONDOMINIUM</td>\n",
       "      <td>239</td>\n",
       "      <td>1985.0</td>\n",
       "      <td>219495</td>\n",
       "      <td>10004582</td>\n",
       "      <td>45.58</td>\n",
       "      <td>2783197</td>\n",
       "      <td>12.68</td>\n",
       "      <td>7221385</td>\n",
       "      <td>54320996</td>\n",
       "      <td>247.48</td>\n",
       "      <td>Manhattan</td>\n",
       "    </tr>\n",
       "  </tbody>\n",
       "</table>\n",
       "</div>"
      ],
      "text/plain": [
       "  neighborhood            type  units  year_built   sq_ft    income  \\\n",
       "0    FINANCIAL  R9-CONDOMINIUM     42      1920.0   36500   1332615   \n",
       "1    FINANCIAL  R4-CONDOMINIUM     78      1985.0  126420   6633257   \n",
       "2    FINANCIAL  RR-CONDOMINIUM    500         NaN  554174  17310000   \n",
       "3    FINANCIAL  R4-CONDOMINIUM    282      1930.0  249076  11776313   \n",
       "4      TRIBECA  R4-CONDOMINIUM    239      1985.0  219495  10004582   \n",
       "\n",
       "   income_per_sq_ft  expense  expense_per_sq_ft  net_income     value  \\\n",
       "0             36.51   342005               9.37      990610   7300000   \n",
       "1             52.47  1762295              13.94     4870962  30690000   \n",
       "2             31.24  3543000               6.39    13767000  90970000   \n",
       "3             47.28  2784670              11.18     8991643  67556006   \n",
       "4             45.58  2783197              12.68     7221385  54320996   \n",
       "\n",
       "   value_per_sq_ft       boro  \n",
       "0           200.00  Manhattan  \n",
       "1           242.76  Manhattan  \n",
       "2           164.15  Manhattan  \n",
       "3           271.23  Manhattan  \n",
       "4           247.48  Manhattan  "
      ]
     },
     "execution_count": 3,
     "metadata": {},
     "output_type": "execute_result"
    }
   ],
   "source": [
    "housing.head()"
   ]
  },
  {
   "cell_type": "code",
   "execution_count": 4,
   "metadata": {},
   "outputs": [],
   "source": [
    "from sklearn.model_selection import train_test_split\n",
    "from sklearn.linear_model import LinearRegression"
   ]
  },
  {
   "cell_type": "code",
   "execution_count": 5,
   "metadata": {},
   "outputs": [
    {
     "data": {
      "text/plain": [
       "Index(['neighborhood', 'type', 'units', 'year_built', 'sq_ft', 'income',\n",
       "       'income_per_sq_ft', 'expense', 'expense_per_sq_ft', 'net_income',\n",
       "       'value', 'value_per_sq_ft', 'boro'],\n",
       "      dtype='object')"
      ]
     },
     "execution_count": 5,
     "metadata": {},
     "output_type": "execute_result"
    }
   ],
   "source": [
    "housing.columns"
   ]
  },
  {
   "cell_type": "code",
   "execution_count": 6,
   "metadata": {},
   "outputs": [],
   "source": [
    "X_train, X_test, y_train, y_test = train_test_split(\n",
    "   pd.get_dummies(housing[[\"units\", \"sq_ft\", \"boro\"]]),\n",
    "    housing[\"value_per_sq_ft\"],\n",
    "    test_size=0.20,\n",
    "    random_state=42\n",
    ")"
   ]
  },
  {
   "cell_type": "code",
   "execution_count": 7,
   "metadata": {},
   "outputs": [],
   "source": [
    "lr = LinearRegression().fit(X_train, y_train)"
   ]
  },
  {
   "cell_type": "code",
   "execution_count": 8,
   "metadata": {},
   "outputs": [
    {
     "data": {
      "text/plain": [
       "0.597123868933847"
      ]
     },
     "execution_count": 8,
     "metadata": {},
     "output_type": "execute_result"
    }
   ],
   "source": [
    "lr.score(X_train, y_train)"
   ]
  },
  {
   "cell_type": "code",
   "execution_count": 9,
   "metadata": {},
   "outputs": [
    {
     "data": {
      "text/plain": [
       "0.613712528503087"
      ]
     },
     "execution_count": 9,
     "metadata": {},
     "output_type": "execute_result"
    }
   ],
   "source": [
    "lr.score(X_test, y_test)"
   ]
  },
  {
   "cell_type": "code",
   "execution_count": 10,
   "metadata": {},
   "outputs": [],
   "source": [
    "from patsy import dmatrices"
   ]
  },
  {
   "cell_type": "code",
   "execution_count": 11,
   "metadata": {},
   "outputs": [
    {
     "data": {
      "text/plain": [
       "0.6137125285026594"
      ]
     },
     "execution_count": 11,
     "metadata": {},
     "output_type": "execute_result"
    }
   ],
   "source": [
    "y, X = dmatrices(\"value_per_sq_ft ~ units + sq_ft + boro\", housing, return_type=\"dataframe\")\n",
    "X_train, X_test, y_train, y_test = train_test_split(\n",
    "   X, y, test_size=0.20, random_state=42\n",
    ")\n",
    "lr = LinearRegression().fit(X_train, y_train)\n",
    "lr.score(X_test, y_test)"
   ]
  },
  {
   "cell_type": "code",
   "execution_count": 12,
   "metadata": {},
   "outputs": [],
   "source": [
    "import matplotlib.pyplot as plt"
   ]
  },
  {
   "cell_type": "code",
   "execution_count": 13,
   "metadata": {},
   "outputs": [],
   "source": [
    "predictions = lr.predict(X_test)"
   ]
  },
  {
   "cell_type": "code",
   "execution_count": 14,
   "metadata": {},
   "outputs": [
    {
     "data": {
      "text/plain": [
       "<matplotlib.collections.PathCollection at 0x7f3f59515610>"
      ]
     },
     "execution_count": 14,
     "metadata": {},
     "output_type": "execute_result"
    },
    {
     "data": {
      "image/png": "[encoded data removed]",
      "text/plain": [
       "<Figure size 432x288 with 1 Axes>"
      ]
     },
     "metadata": {
      "needs_background": "light"
     },
     "output_type": "display_data"
    }
   ],
   "source": [
    "plt.scatter(y_test, predictions)"
   ]
  },
  {
   "cell_type": "code",
   "execution_count": 15,
   "metadata": {},
   "outputs": [],
   "source": [
    "import seaborn as sns"
   ]
  },
  {
   "cell_type": "code",
   "execution_count": 16,
   "metadata": {},
   "outputs": [
    {
     "data": {
      "text/plain": [
       "(526, 1)"
      ]
     },
     "execution_count": 16,
     "metadata": {},
     "output_type": "execute_result"
    }
   ],
   "source": [
    "y_test.shape"
   ]
  },
  {
   "cell_type": "code",
   "execution_count": 17,
   "metadata": {},
   "outputs": [
    {
     "data": {
      "text/html": [
       "<div>\n",
       "<style scoped>\n",
       "    .dataframe tbody tr th:only-of-type {\n",
       "        vertical-align: middle;\n",
       "    }\n",
       "\n",
       "    .dataframe tbody tr th {\n",
       "        vertical-align: top;\n",
       "    }\n",
       "\n",
       "    .dataframe thead th {\n",
       "        text-align: right;\n",
       "    }\n",
       "</style>\n",
       "<table border=\"1\" class=\"dataframe\">\n",
       "  <thead>\n",
       "    <tr style=\"text-align: right;\">\n",
       "      <th></th>\n",
       "      <th>value_per_sq_ft</th>\n",
       "      <th>Intercept</th>\n",
       "      <th>boro[T.Brooklyn]</th>\n",
       "      <th>boro[T.Manhattan]</th>\n",
       "      <th>boro[T.Queens]</th>\n",
       "      <th>boro[T.Staten Island]</th>\n",
       "      <th>units</th>\n",
       "      <th>sq_ft</th>\n",
       "      <th>0</th>\n",
       "    </tr>\n",
       "  </thead>\n",
       "  <tbody>\n",
       "    <tr>\n",
       "      <th>439</th>\n",
       "      <td>96.75</td>\n",
       "      <td>1.0</td>\n",
       "      <td>1.0</td>\n",
       "      <td>0.0</td>\n",
       "      <td>0.0</td>\n",
       "      <td>0.0</td>\n",
       "      <td>11.0</td>\n",
       "      <td>8620.0</td>\n",
       "      <td>77.809605</td>\n",
       "    </tr>\n",
       "    <tr>\n",
       "      <th>219</th>\n",
       "      <td>197.79</td>\n",
       "      <td>1.0</td>\n",
       "      <td>0.0</td>\n",
       "      <td>1.0</td>\n",
       "      <td>0.0</td>\n",
       "      <td>0.0</td>\n",
       "      <td>19.0</td>\n",
       "      <td>43682.0</td>\n",
       "      <td>179.106117</td>\n",
       "    </tr>\n",
       "    <tr>\n",
       "      <th>13</th>\n",
       "      <td>95.20</td>\n",
       "      <td>1.0</td>\n",
       "      <td>0.0</td>\n",
       "      <td>1.0</td>\n",
       "      <td>0.0</td>\n",
       "      <td>0.0</td>\n",
       "      <td>52.0</td>\n",
       "      <td>70212.0</td>\n",
       "      <td>178.673099</td>\n",
       "    </tr>\n",
       "    <tr>\n",
       "      <th>125</th>\n",
       "      <td>51.31</td>\n",
       "      <td>1.0</td>\n",
       "      <td>1.0</td>\n",
       "      <td>0.0</td>\n",
       "      <td>0.0</td>\n",
       "      <td>0.0</td>\n",
       "      <td>15.0</td>\n",
       "      <td>11050.0</td>\n",
       "      <td>77.613631</td>\n",
       "    </tr>\n",
       "    <tr>\n",
       "      <th>213</th>\n",
       "      <td>210.99</td>\n",
       "      <td>1.0</td>\n",
       "      <td>0.0</td>\n",
       "      <td>1.0</td>\n",
       "      <td>0.0</td>\n",
       "      <td>0.0</td>\n",
       "      <td>79.0</td>\n",
       "      <td>97500.0</td>\n",
       "      <td>179.338072</td>\n",
       "    </tr>\n",
       "    <tr>\n",
       "      <th>36</th>\n",
       "      <td>205.98</td>\n",
       "      <td>1.0</td>\n",
       "      <td>0.0</td>\n",
       "      <td>1.0</td>\n",
       "      <td>0.0</td>\n",
       "      <td>0.0</td>\n",
       "      <td>28.0</td>\n",
       "      <td>17793.0</td>\n",
       "      <td>172.939180</td>\n",
       "    </tr>\n",
       "    <tr>\n",
       "      <th>226</th>\n",
       "      <td>127.58</td>\n",
       "      <td>1.0</td>\n",
       "      <td>0.0</td>\n",
       "      <td>1.0</td>\n",
       "      <td>0.0</td>\n",
       "      <td>0.0</td>\n",
       "      <td>14.0</td>\n",
       "      <td>6846.0</td>\n",
       "      <td>173.179156</td>\n",
       "    </tr>\n",
       "    <tr>\n",
       "      <th>123</th>\n",
       "      <td>248.91</td>\n",
       "      <td>1.0</td>\n",
       "      <td>0.0</td>\n",
       "      <td>1.0</td>\n",
       "      <td>0.0</td>\n",
       "      <td>0.0</td>\n",
       "      <td>170.0</td>\n",
       "      <td>223560.0</td>\n",
       "      <td>187.804315</td>\n",
       "    </tr>\n",
       "    <tr>\n",
       "      <th>142</th>\n",
       "      <td>223.34</td>\n",
       "      <td>1.0</td>\n",
       "      <td>0.0</td>\n",
       "      <td>1.0</td>\n",
       "      <td>0.0</td>\n",
       "      <td>0.0</td>\n",
       "      <td>174.0</td>\n",
       "      <td>134519.0</td>\n",
       "      <td>170.904864</td>\n",
       "    </tr>\n",
       "    <tr>\n",
       "      <th>192</th>\n",
       "      <td>87.94</td>\n",
       "      <td>1.0</td>\n",
       "      <td>1.0</td>\n",
       "      <td>0.0</td>\n",
       "      <td>0.0</td>\n",
       "      <td>0.0</td>\n",
       "      <td>12.0</td>\n",
       "      <td>13669.0</td>\n",
       "      <td>78.571672</td>\n",
       "    </tr>\n",
       "  </tbody>\n",
       "</table>\n",
       "</div>"
      ],
      "text/plain": [
       "     value_per_sq_ft  Intercept  boro[T.Brooklyn]  boro[T.Manhattan]  \\\n",
       "439            96.75        1.0               1.0                0.0   \n",
       "219           197.79        1.0               0.0                1.0   \n",
       "13             95.20        1.0               0.0                1.0   \n",
       "125            51.31        1.0               1.0                0.0   \n",
       "213           210.99        1.0               0.0                1.0   \n",
       "36            205.98        1.0               0.0                1.0   \n",
       "226           127.58        1.0               0.0                1.0   \n",
       "123           248.91        1.0               0.0                1.0   \n",
       "142           223.34        1.0               0.0                1.0   \n",
       "192            87.94        1.0               1.0                0.0   \n",
       "\n",
       "     boro[T.Queens]  boro[T.Staten Island]  units     sq_ft           0  \n",
       "439             0.0                    0.0   11.0    8620.0   77.809605  \n",
       "219             0.0                    0.0   19.0   43682.0  179.106117  \n",
       "13              0.0                    0.0   52.0   70212.0  178.673099  \n",
       "125             0.0                    0.0   15.0   11050.0   77.613631  \n",
       "213             0.0                    0.0   79.0   97500.0  179.338072  \n",
       "36              0.0                    0.0   28.0   17793.0  172.939180  \n",
       "226             0.0                    0.0   14.0    6846.0  173.179156  \n",
       "123             0.0                    0.0  170.0  223560.0  187.804315  \n",
       "142             0.0                    0.0  174.0  134519.0  170.904864  \n",
       "192             0.0                    0.0   12.0   13669.0   78.571672  "
      ]
     },
     "execution_count": 17,
     "metadata": {},
     "output_type": "execute_result"
    }
   ],
   "source": [
    "test_prediction_df = pd.concat([y_test.reset_index(drop=True),\n",
    "                                X_test.reset_index(drop=True),\n",
    "                                pd.DataFrame(predictions)],\n",
    "                               axis=1)\n",
    "test_prediction_df.sample(10)"
   ]
  },
  {
   "cell_type": "code",
   "execution_count": 18,
   "metadata": {},
   "outputs": [],
   "source": [
    "def recode_boro(df):\n",
    "    # There is also a DataFrame.replace method\n",
    "    # that is used to recode values\n",
    "    if df[\"boro[T.Brooklyn]\"] == 1:\n",
    "        return \"brooklyn\"\n",
    "    elif df[\"boro[T.Manhattan]\"] == 1:\n",
    "        return \"manhattan\"\n",
    "    elif df[\"boro[T.Queens]\"] == 1:\n",
    "        return \"queens\"\n",
    "    elif df[\"boro[T.Staten Island]\"] == 1:\n",
    "        return \"staten\"\n",
    "    else:\n",
    "        return \"bronx\""
   ]
  },
  {
   "cell_type": "code",
   "execution_count": 19,
   "metadata": {},
   "outputs": [],
   "source": [
    "test_prediction_df['boro'] = test_prediction_df.filter(like=\"boro\").apply(recode_boro, axis=1)"
   ]
  },
  {
   "cell_type": "code",
   "execution_count": 20,
   "metadata": {},
   "outputs": [
    {
     "data": {
      "text/plain": [
       "<matplotlib.axes._subplots.AxesSubplot at 0x7f3f590d0850>"
      ]
     },
     "execution_count": 20,
     "metadata": {},
     "output_type": "execute_result"
    },
    {
     "data": {
      "image/png": "[encoded data removed]",
      "text/plain": [
       "<Figure size 432x288 with 1 Axes>"
      ]
     },
     "metadata": {
      "needs_background": "light"
     },
     "output_type": "display_data"
    }
   ],
   "source": [
    "sns.scatterplot(x='value_per_sq_ft', y=0, data=test_prediction_df, hue=\"boro\")"
   ]
  },
  {
   "cell_type": "markdown",
   "metadata": {},
   "source": [
    "# Cross validation"
   ]
  },
  {
   "cell_type": "code",
   "execution_count": 21,
   "metadata": {},
   "outputs": [],
   "source": [
    "from sklearn.model_selection import train_test_split\n",
    "from sklearn.linear_model import LinearRegression"
   ]
  },
  {
   "cell_type": "markdown",
   "metadata": {},
   "source": [
    "LinearRegression.score: Returns the coefficient of determination R^2 of the prediction.\n",
    "\n",
    "https://scikit-learn.org/stable/modules/generated/sklearn.linear_model.LinearRegression.html#sklearn.linear_model.LinearRegression.score"
   ]
  },
  {
   "cell_type": "code",
   "execution_count": 22,
   "metadata": {},
   "outputs": [
    {
     "data": {
      "text/plain": [
       "(2100, 7)"
      ]
     },
     "execution_count": 22,
     "metadata": {},
     "output_type": "execute_result"
    }
   ],
   "source": [
    "X_train.shape"
   ]
  },
  {
   "cell_type": "code",
   "execution_count": 23,
   "metadata": {},
   "outputs": [
    {
     "data": {
      "text/plain": [
       "array([0.54069099, 0.62189729, 0.60905418, 0.60935215, 0.57127602])"
      ]
     },
     "execution_count": 23,
     "metadata": {},
     "output_type": "execute_result"
    }
   ],
   "source": [
    "from sklearn.model_selection import cross_val_score\n",
    "\n",
    "cross_val_score(LinearRegression(), X_train, y_train, cv=5)"
   ]
  },
  {
   "cell_type": "code",
   "execution_count": 24,
   "metadata": {},
   "outputs": [
    {
     "data": {
      "text/plain": [
       "array([0.54069099, 0.62189729, 0.60905418, 0.60935215, 0.57127602])"
      ]
     },
     "execution_count": 24,
     "metadata": {},
     "output_type": "execute_result"
    }
   ],
   "source": [
    "cross_val_score(lr, X_train, y_train, cv=5)"
   ]
  },
  {
   "cell_type": "code",
   "execution_count": 25,
   "metadata": {},
   "outputs": [
    {
     "data": {
      "text/plain": [
       "array([0.57072577, 0.62367929, 0.55178697, 0.61756706, 0.58261355,\n",
       "       0.56433417, 0.59620666, 0.60108946, 0.5613949 , 0.62127622])"
      ]
     },
     "execution_count": 25,
     "metadata": {},
     "output_type": "execute_result"
    }
   ],
   "source": [
    "from sklearn.model_selection import KFold\n",
    "\n",
    "cross_val_score(LinearRegression(), X_train, y_train,\n",
    "                cv=KFold(n_splits=10, shuffle=True, random_state=42))"
   ]
  },
  {
   "cell_type": "markdown",
   "metadata": {},
   "source": [
    "If you are doing classification tasks:\n",
    "https://scikit-learn.org/stable/modules/generated/sklearn.model_selection.RepeatedStratifiedKFold.html"
   ]
  },
  {
   "cell_type": "code",
   "execution_count": 26,
   "metadata": {},
   "outputs": [
    {
     "data": {
      "text/plain": [
       "array([0.62857143, 0.6047619 , 0.58095238, 0.63809524, 0.61428571,\n",
       "       0.68571429, 0.55238095, 0.5952381 , 0.60952381, 0.6047619 ,\n",
       "       0.57142857, 0.6047619 , 0.58095238, 0.57619048, 0.66666667,\n",
       "       0.62857143, 0.58095238, 0.61428571, 0.67142857, 0.57619048,\n",
       "       0.55238095, 0.64761905, 0.64285714, 0.56666667, 0.56190476,\n",
       "       0.6       , 0.5952381 , 0.6047619 , 0.64285714, 0.66190476,\n",
       "       0.54761905, 0.65714286, 0.56190476, 0.5952381 , 0.6047619 ,\n",
       "       0.62380952, 0.67619048, 0.6047619 , 0.63333333, 0.66190476,\n",
       "       0.61428571, 0.5952381 , 0.67142857, 0.6047619 , 0.64285714,\n",
       "       0.61428571, 0.6       , 0.66666667, 0.55714286, 0.60952381,\n",
       "       0.61428571, 0.59047619, 0.60952381, 0.62857143, 0.57619048,\n",
       "       0.63333333, 0.68095238, 0.6       , 0.63809524, 0.60952381,\n",
       "       0.64761905, 0.64761905, 0.64761905, 0.62857143, 0.5952381 ,\n",
       "       0.58095238, 0.61904762, 0.62857143, 0.5952381 , 0.59047619,\n",
       "       0.61904762, 0.62380952, 0.65714286, 0.62380952, 0.64285714,\n",
       "       0.58095238, 0.58571429, 0.55238095, 0.63809524, 0.58095238,\n",
       "       0.61428571, 0.56666667, 0.57619048, 0.59047619, 0.62380952,\n",
       "       0.63333333, 0.57619048, 0.61428571, 0.66190476, 0.65714286,\n",
       "       0.66666667, 0.56666667, 0.61904762, 0.64285714, 0.6       ,\n",
       "       0.5952381 , 0.60952381, 0.63333333, 0.57619048, 0.62857143])"
      ]
     },
     "execution_count": 26,
     "metadata": {},
     "output_type": "execute_result"
    }
   ],
   "source": [
    "from sklearn.model_selection import RepeatedStratifiedKFold\n",
    "from sklearn.neighbors import KNeighborsClassifier\n",
    "cross_val_score(KNeighborsClassifier(),\n",
    "                X_train,\n",
    "                pd.qcut(y_train.value_per_sq_ft, 2, labels=False),\n",
    "                cv=RepeatedStratifiedKFold(n_splits=10, n_repeats=10, random_state=42))"
   ]
  },
  {
   "cell_type": "code",
   "execution_count": 27,
   "metadata": {},
   "outputs": [],
   "source": [
    "from sklearn.model_selection import cross_val_predict\n",
    "cv_predictions = cross_val_predict(lr, X_train, y_train, cv=5)"
   ]
  },
  {
   "cell_type": "code",
   "execution_count": 28,
   "metadata": {},
   "outputs": [
    {
     "data": {
      "text/plain": [
       "<matplotlib.collections.PathCollection at 0x7f3f58dd8fd0>"
      ]
     },
     "execution_count": 28,
     "metadata": {},
     "output_type": "execute_result"
    },
    {
     "data": {
      "image/png": "[encoded data removed]",
      "text/plain": [
       "<Figure size 432x288 with 1 Axes>"
      ]
     },
     "metadata": {
      "needs_background": "light"
     },
     "output_type": "display_data"
    }
   ],
   "source": [
    "plt.scatter(y_train, cv_predictions)"
   ]
  },
  {
   "cell_type": "code",
   "execution_count": null,
   "metadata": {},
   "outputs": [],
   "source": []
  },
  {
   "cell_type": "code",
   "execution_count": null,
   "metadata": {},
   "outputs": [],
   "source": []
  },
  {
   "cell_type": "code",
   "execution_count": null,
   "metadata": {},
   "outputs": [],
   "source": []
  }
 ],
 "metadata": {
  "kernelspec": {
   "display_name": "Python 3",
   "language": "python",
   "name": "python3"
  },
  "language_info": {
   "codemirror_mode": {
    "name": "ipython",
    "version": 3
   },
   "file_extension": ".py",
   "mimetype": "text/x-python",
   "name": "python",
   "nbconvert_exporter": "python",
   "pygments_lexer": "ipython3",
   "version": "3.7.6"
  }
 },
 "nbformat": 4,
 "nbformat_minor": 4
}
